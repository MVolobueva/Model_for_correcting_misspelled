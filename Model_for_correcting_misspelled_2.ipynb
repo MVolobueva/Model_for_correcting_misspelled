{
  "nbformat": 4,
  "nbformat_minor": 0,
  "metadata": {
    "colab": {
      "name": "Model_for_correcting_misspelled (1).ipynb",
      "provenance": [],
      "collapsed_sections": []
    },
    "kernelspec": {
      "name": "python3",
      "display_name": "Python 3"
    },
    "language_info": {
      "name": "python"
    },
    "accelerator": "GPU",
    "widgets": {
      "application/vnd.jupyter.widget-state+json": {
        "b933707dc0484befb5cd69ecb65ca419": {
          "model_module": "@jupyter-widgets/controls",
          "model_name": "HBoxModel",
          "state": {
            "_view_name": "HBoxView",
            "_dom_classes": [],
            "_model_name": "HBoxModel",
            "_view_module": "@jupyter-widgets/controls",
            "_model_module_version": "1.5.0",
            "_view_count": null,
            "_view_module_version": "1.5.0",
            "box_style": "",
            "layout": "IPY_MODEL_c225df3b30c54131b6375c3283bebd09",
            "_model_module": "@jupyter-widgets/controls",
            "children": [
              "IPY_MODEL_a4e79acc4f08413bb0f4a55d27ecd906",
              "IPY_MODEL_dcecc89dc10d4c309e41485d70939e69"
            ]
          }
        },
        "c225df3b30c54131b6375c3283bebd09": {
          "model_module": "@jupyter-widgets/base",
          "model_name": "LayoutModel",
          "state": {
            "_view_name": "LayoutView",
            "grid_template_rows": null,
            "right": null,
            "justify_content": null,
            "_view_module": "@jupyter-widgets/base",
            "overflow": null,
            "_model_module_version": "1.2.0",
            "_view_count": null,
            "flex_flow": null,
            "width": null,
            "min_width": null,
            "border": null,
            "align_items": null,
            "bottom": null,
            "_model_module": "@jupyter-widgets/base",
            "top": null,
            "grid_column": null,
            "overflow_y": null,
            "overflow_x": null,
            "grid_auto_flow": null,
            "grid_area": null,
            "grid_template_columns": null,
            "flex": null,
            "_model_name": "LayoutModel",
            "justify_items": null,
            "grid_row": null,
            "max_height": null,
            "align_content": null,
            "visibility": null,
            "align_self": null,
            "height": null,
            "min_height": null,
            "padding": null,
            "grid_auto_rows": null,
            "grid_gap": null,
            "max_width": null,
            "order": null,
            "_view_module_version": "1.2.0",
            "grid_template_areas": null,
            "object_position": null,
            "object_fit": null,
            "grid_auto_columns": null,
            "margin": null,
            "display": null,
            "left": null
          }
        },
        "a4e79acc4f08413bb0f4a55d27ecd906": {
          "model_module": "@jupyter-widgets/controls",
          "model_name": "FloatProgressModel",
          "state": {
            "_view_name": "ProgressView",
            "style": "IPY_MODEL_8580dce14bc64147ac877faa8ebfb183",
            "_dom_classes": [],
            "description": "Downloading: 100%",
            "_model_name": "FloatProgressModel",
            "bar_style": "success",
            "max": 665,
            "_view_module": "@jupyter-widgets/controls",
            "_model_module_version": "1.5.0",
            "value": 665,
            "_view_count": null,
            "_view_module_version": "1.5.0",
            "orientation": "horizontal",
            "min": 0,
            "description_tooltip": null,
            "_model_module": "@jupyter-widgets/controls",
            "layout": "IPY_MODEL_9b6eabe93644427d9fa4fe872bed6d39"
          }
        },
        "dcecc89dc10d4c309e41485d70939e69": {
          "model_module": "@jupyter-widgets/controls",
          "model_name": "HTMLModel",
          "state": {
            "_view_name": "HTMLView",
            "style": "IPY_MODEL_70ee3a67908e4b93b7717e9e349036e4",
            "_dom_classes": [],
            "description": "",
            "_model_name": "HTMLModel",
            "placeholder": "​",
            "_view_module": "@jupyter-widgets/controls",
            "_model_module_version": "1.5.0",
            "value": " 665/665 [00:03&lt;00:00, 178B/s]",
            "_view_count": null,
            "_view_module_version": "1.5.0",
            "description_tooltip": null,
            "_model_module": "@jupyter-widgets/controls",
            "layout": "IPY_MODEL_ca0da9465986434390f0276bcef4e083"
          }
        },
        "8580dce14bc64147ac877faa8ebfb183": {
          "model_module": "@jupyter-widgets/controls",
          "model_name": "ProgressStyleModel",
          "state": {
            "_view_name": "StyleView",
            "_model_name": "ProgressStyleModel",
            "description_width": "initial",
            "_view_module": "@jupyter-widgets/base",
            "_model_module_version": "1.5.0",
            "_view_count": null,
            "_view_module_version": "1.2.0",
            "bar_color": null,
            "_model_module": "@jupyter-widgets/controls"
          }
        },
        "9b6eabe93644427d9fa4fe872bed6d39": {
          "model_module": "@jupyter-widgets/base",
          "model_name": "LayoutModel",
          "state": {
            "_view_name": "LayoutView",
            "grid_template_rows": null,
            "right": null,
            "justify_content": null,
            "_view_module": "@jupyter-widgets/base",
            "overflow": null,
            "_model_module_version": "1.2.0",
            "_view_count": null,
            "flex_flow": null,
            "width": null,
            "min_width": null,
            "border": null,
            "align_items": null,
            "bottom": null,
            "_model_module": "@jupyter-widgets/base",
            "top": null,
            "grid_column": null,
            "overflow_y": null,
            "overflow_x": null,
            "grid_auto_flow": null,
            "grid_area": null,
            "grid_template_columns": null,
            "flex": null,
            "_model_name": "LayoutModel",
            "justify_items": null,
            "grid_row": null,
            "max_height": null,
            "align_content": null,
            "visibility": null,
            "align_self": null,
            "height": null,
            "min_height": null,
            "padding": null,
            "grid_auto_rows": null,
            "grid_gap": null,
            "max_width": null,
            "order": null,
            "_view_module_version": "1.2.0",
            "grid_template_areas": null,
            "object_position": null,
            "object_fit": null,
            "grid_auto_columns": null,
            "margin": null,
            "display": null,
            "left": null
          }
        },
        "70ee3a67908e4b93b7717e9e349036e4": {
          "model_module": "@jupyter-widgets/controls",
          "model_name": "DescriptionStyleModel",
          "state": {
            "_view_name": "StyleView",
            "_model_name": "DescriptionStyleModel",
            "description_width": "",
            "_view_module": "@jupyter-widgets/base",
            "_model_module_version": "1.5.0",
            "_view_count": null,
            "_view_module_version": "1.2.0",
            "_model_module": "@jupyter-widgets/controls"
          }
        },
        "ca0da9465986434390f0276bcef4e083": {
          "model_module": "@jupyter-widgets/base",
          "model_name": "LayoutModel",
          "state": {
            "_view_name": "LayoutView",
            "grid_template_rows": null,
            "right": null,
            "justify_content": null,
            "_view_module": "@jupyter-widgets/base",
            "overflow": null,
            "_model_module_version": "1.2.0",
            "_view_count": null,
            "flex_flow": null,
            "width": null,
            "min_width": null,
            "border": null,
            "align_items": null,
            "bottom": null,
            "_model_module": "@jupyter-widgets/base",
            "top": null,
            "grid_column": null,
            "overflow_y": null,
            "overflow_x": null,
            "grid_auto_flow": null,
            "grid_area": null,
            "grid_template_columns": null,
            "flex": null,
            "_model_name": "LayoutModel",
            "justify_items": null,
            "grid_row": null,
            "max_height": null,
            "align_content": null,
            "visibility": null,
            "align_self": null,
            "height": null,
            "min_height": null,
            "padding": null,
            "grid_auto_rows": null,
            "grid_gap": null,
            "max_width": null,
            "order": null,
            "_view_module_version": "1.2.0",
            "grid_template_areas": null,
            "object_position": null,
            "object_fit": null,
            "grid_auto_columns": null,
            "margin": null,
            "display": null,
            "left": null
          }
        },
        "9317c8e97146428c8c5de788466e93ea": {
          "model_module": "@jupyter-widgets/controls",
          "model_name": "HBoxModel",
          "state": {
            "_view_name": "HBoxView",
            "_dom_classes": [],
            "_model_name": "HBoxModel",
            "_view_module": "@jupyter-widgets/controls",
            "_model_module_version": "1.5.0",
            "_view_count": null,
            "_view_module_version": "1.5.0",
            "box_style": "",
            "layout": "IPY_MODEL_2443737d23e4474cadb092446a73fde3",
            "_model_module": "@jupyter-widgets/controls",
            "children": [
              "IPY_MODEL_3abdb523c64c4dbcb36a6261a439337d",
              "IPY_MODEL_540c808de6ad460494865da837d895ec"
            ]
          }
        },
        "2443737d23e4474cadb092446a73fde3": {
          "model_module": "@jupyter-widgets/base",
          "model_name": "LayoutModel",
          "state": {
            "_view_name": "LayoutView",
            "grid_template_rows": null,
            "right": null,
            "justify_content": null,
            "_view_module": "@jupyter-widgets/base",
            "overflow": null,
            "_model_module_version": "1.2.0",
            "_view_count": null,
            "flex_flow": null,
            "width": null,
            "min_width": null,
            "border": null,
            "align_items": null,
            "bottom": null,
            "_model_module": "@jupyter-widgets/base",
            "top": null,
            "grid_column": null,
            "overflow_y": null,
            "overflow_x": null,
            "grid_auto_flow": null,
            "grid_area": null,
            "grid_template_columns": null,
            "flex": null,
            "_model_name": "LayoutModel",
            "justify_items": null,
            "grid_row": null,
            "max_height": null,
            "align_content": null,
            "visibility": null,
            "align_self": null,
            "height": null,
            "min_height": null,
            "padding": null,
            "grid_auto_rows": null,
            "grid_gap": null,
            "max_width": null,
            "order": null,
            "_view_module_version": "1.2.0",
            "grid_template_areas": null,
            "object_position": null,
            "object_fit": null,
            "grid_auto_columns": null,
            "margin": null,
            "display": null,
            "left": null
          }
        },
        "3abdb523c64c4dbcb36a6261a439337d": {
          "model_module": "@jupyter-widgets/controls",
          "model_name": "FloatProgressModel",
          "state": {
            "_view_name": "ProgressView",
            "style": "IPY_MODEL_82c1b43f9bf4464c9cfeae66187bfc06",
            "_dom_classes": [],
            "description": "Downloading: 100%",
            "_model_name": "FloatProgressModel",
            "bar_style": "success",
            "max": 1042301,
            "_view_module": "@jupyter-widgets/controls",
            "_model_module_version": "1.5.0",
            "value": 1042301,
            "_view_count": null,
            "_view_module_version": "1.5.0",
            "orientation": "horizontal",
            "min": 0,
            "description_tooltip": null,
            "_model_module": "@jupyter-widgets/controls",
            "layout": "IPY_MODEL_49e3b5792b9a479d902dc34ca066412e"
          }
        },
        "540c808de6ad460494865da837d895ec": {
          "model_module": "@jupyter-widgets/controls",
          "model_name": "HTMLModel",
          "state": {
            "_view_name": "HTMLView",
            "style": "IPY_MODEL_d798bcabd51d4f5c8d3c2dabaa71ecb2",
            "_dom_classes": [],
            "description": "",
            "_model_name": "HTMLModel",
            "placeholder": "​",
            "_view_module": "@jupyter-widgets/controls",
            "_model_module_version": "1.5.0",
            "value": " 1.04M/1.04M [00:00&lt;00:00, 1.18MB/s]",
            "_view_count": null,
            "_view_module_version": "1.5.0",
            "description_tooltip": null,
            "_model_module": "@jupyter-widgets/controls",
            "layout": "IPY_MODEL_6c6aa1be37ea402eb4f74e36e259a64c"
          }
        },
        "82c1b43f9bf4464c9cfeae66187bfc06": {
          "model_module": "@jupyter-widgets/controls",
          "model_name": "ProgressStyleModel",
          "state": {
            "_view_name": "StyleView",
            "_model_name": "ProgressStyleModel",
            "description_width": "initial",
            "_view_module": "@jupyter-widgets/base",
            "_model_module_version": "1.5.0",
            "_view_count": null,
            "_view_module_version": "1.2.0",
            "bar_color": null,
            "_model_module": "@jupyter-widgets/controls"
          }
        },
        "49e3b5792b9a479d902dc34ca066412e": {
          "model_module": "@jupyter-widgets/base",
          "model_name": "LayoutModel",
          "state": {
            "_view_name": "LayoutView",
            "grid_template_rows": null,
            "right": null,
            "justify_content": null,
            "_view_module": "@jupyter-widgets/base",
            "overflow": null,
            "_model_module_version": "1.2.0",
            "_view_count": null,
            "flex_flow": null,
            "width": null,
            "min_width": null,
            "border": null,
            "align_items": null,
            "bottom": null,
            "_model_module": "@jupyter-widgets/base",
            "top": null,
            "grid_column": null,
            "overflow_y": null,
            "overflow_x": null,
            "grid_auto_flow": null,
            "grid_area": null,
            "grid_template_columns": null,
            "flex": null,
            "_model_name": "LayoutModel",
            "justify_items": null,
            "grid_row": null,
            "max_height": null,
            "align_content": null,
            "visibility": null,
            "align_self": null,
            "height": null,
            "min_height": null,
            "padding": null,
            "grid_auto_rows": null,
            "grid_gap": null,
            "max_width": null,
            "order": null,
            "_view_module_version": "1.2.0",
            "grid_template_areas": null,
            "object_position": null,
            "object_fit": null,
            "grid_auto_columns": null,
            "margin": null,
            "display": null,
            "left": null
          }
        },
        "d798bcabd51d4f5c8d3c2dabaa71ecb2": {
          "model_module": "@jupyter-widgets/controls",
          "model_name": "DescriptionStyleModel",
          "state": {
            "_view_name": "StyleView",
            "_model_name": "DescriptionStyleModel",
            "description_width": "",
            "_view_module": "@jupyter-widgets/base",
            "_model_module_version": "1.5.0",
            "_view_count": null,
            "_view_module_version": "1.2.0",
            "_model_module": "@jupyter-widgets/controls"
          }
        },
        "6c6aa1be37ea402eb4f74e36e259a64c": {
          "model_module": "@jupyter-widgets/base",
          "model_name": "LayoutModel",
          "state": {
            "_view_name": "LayoutView",
            "grid_template_rows": null,
            "right": null,
            "justify_content": null,
            "_view_module": "@jupyter-widgets/base",
            "overflow": null,
            "_model_module_version": "1.2.0",
            "_view_count": null,
            "flex_flow": null,
            "width": null,
            "min_width": null,
            "border": null,
            "align_items": null,
            "bottom": null,
            "_model_module": "@jupyter-widgets/base",
            "top": null,
            "grid_column": null,
            "overflow_y": null,
            "overflow_x": null,
            "grid_auto_flow": null,
            "grid_area": null,
            "grid_template_columns": null,
            "flex": null,
            "_model_name": "LayoutModel",
            "justify_items": null,
            "grid_row": null,
            "max_height": null,
            "align_content": null,
            "visibility": null,
            "align_self": null,
            "height": null,
            "min_height": null,
            "padding": null,
            "grid_auto_rows": null,
            "grid_gap": null,
            "max_width": null,
            "order": null,
            "_view_module_version": "1.2.0",
            "grid_template_areas": null,
            "object_position": null,
            "object_fit": null,
            "grid_auto_columns": null,
            "margin": null,
            "display": null,
            "left": null
          }
        },
        "e5e1ea2f7d764bdcab1b13b94c8f8b4b": {
          "model_module": "@jupyter-widgets/controls",
          "model_name": "HBoxModel",
          "state": {
            "_view_name": "HBoxView",
            "_dom_classes": [],
            "_model_name": "HBoxModel",
            "_view_module": "@jupyter-widgets/controls",
            "_model_module_version": "1.5.0",
            "_view_count": null,
            "_view_module_version": "1.5.0",
            "box_style": "",
            "layout": "IPY_MODEL_a7046e44cf104920a468f82974d96e4f",
            "_model_module": "@jupyter-widgets/controls",
            "children": [
              "IPY_MODEL_17b3f65a489646fd9a54f3507346774f",
              "IPY_MODEL_0e4c9221efb348c8b85420142f0150b8"
            ]
          }
        },
        "a7046e44cf104920a468f82974d96e4f": {
          "model_module": "@jupyter-widgets/base",
          "model_name": "LayoutModel",
          "state": {
            "_view_name": "LayoutView",
            "grid_template_rows": null,
            "right": null,
            "justify_content": null,
            "_view_module": "@jupyter-widgets/base",
            "overflow": null,
            "_model_module_version": "1.2.0",
            "_view_count": null,
            "flex_flow": null,
            "width": null,
            "min_width": null,
            "border": null,
            "align_items": null,
            "bottom": null,
            "_model_module": "@jupyter-widgets/base",
            "top": null,
            "grid_column": null,
            "overflow_y": null,
            "overflow_x": null,
            "grid_auto_flow": null,
            "grid_area": null,
            "grid_template_columns": null,
            "flex": null,
            "_model_name": "LayoutModel",
            "justify_items": null,
            "grid_row": null,
            "max_height": null,
            "align_content": null,
            "visibility": null,
            "align_self": null,
            "height": null,
            "min_height": null,
            "padding": null,
            "grid_auto_rows": null,
            "grid_gap": null,
            "max_width": null,
            "order": null,
            "_view_module_version": "1.2.0",
            "grid_template_areas": null,
            "object_position": null,
            "object_fit": null,
            "grid_auto_columns": null,
            "margin": null,
            "display": null,
            "left": null
          }
        },
        "17b3f65a489646fd9a54f3507346774f": {
          "model_module": "@jupyter-widgets/controls",
          "model_name": "FloatProgressModel",
          "state": {
            "_view_name": "ProgressView",
            "style": "IPY_MODEL_023d174a6adc4c689c5ac50dc8c79c4a",
            "_dom_classes": [],
            "description": "Downloading: 100%",
            "_model_name": "FloatProgressModel",
            "bar_style": "success",
            "max": 456318,
            "_view_module": "@jupyter-widgets/controls",
            "_model_module_version": "1.5.0",
            "value": 456318,
            "_view_count": null,
            "_view_module_version": "1.5.0",
            "orientation": "horizontal",
            "min": 0,
            "description_tooltip": null,
            "_model_module": "@jupyter-widgets/controls",
            "layout": "IPY_MODEL_a43805a037a746c982f68c641a221c9f"
          }
        },
        "0e4c9221efb348c8b85420142f0150b8": {
          "model_module": "@jupyter-widgets/controls",
          "model_name": "HTMLModel",
          "state": {
            "_view_name": "HTMLView",
            "style": "IPY_MODEL_6cf0c277330d4c6687ed18310eb73112",
            "_dom_classes": [],
            "description": "",
            "_model_name": "HTMLModel",
            "placeholder": "​",
            "_view_module": "@jupyter-widgets/controls",
            "_model_module_version": "1.5.0",
            "value": " 456k/456k [00:02&lt;00:00, 205kB/s]",
            "_view_count": null,
            "_view_module_version": "1.5.0",
            "description_tooltip": null,
            "_model_module": "@jupyter-widgets/controls",
            "layout": "IPY_MODEL_2b8db2b60ff340ecb8618ceb4f423d93"
          }
        },
        "023d174a6adc4c689c5ac50dc8c79c4a": {
          "model_module": "@jupyter-widgets/controls",
          "model_name": "ProgressStyleModel",
          "state": {
            "_view_name": "StyleView",
            "_model_name": "ProgressStyleModel",
            "description_width": "initial",
            "_view_module": "@jupyter-widgets/base",
            "_model_module_version": "1.5.0",
            "_view_count": null,
            "_view_module_version": "1.2.0",
            "bar_color": null,
            "_model_module": "@jupyter-widgets/controls"
          }
        },
        "a43805a037a746c982f68c641a221c9f": {
          "model_module": "@jupyter-widgets/base",
          "model_name": "LayoutModel",
          "state": {
            "_view_name": "LayoutView",
            "grid_template_rows": null,
            "right": null,
            "justify_content": null,
            "_view_module": "@jupyter-widgets/base",
            "overflow": null,
            "_model_module_version": "1.2.0",
            "_view_count": null,
            "flex_flow": null,
            "width": null,
            "min_width": null,
            "border": null,
            "align_items": null,
            "bottom": null,
            "_model_module": "@jupyter-widgets/base",
            "top": null,
            "grid_column": null,
            "overflow_y": null,
            "overflow_x": null,
            "grid_auto_flow": null,
            "grid_area": null,
            "grid_template_columns": null,
            "flex": null,
            "_model_name": "LayoutModel",
            "justify_items": null,
            "grid_row": null,
            "max_height": null,
            "align_content": null,
            "visibility": null,
            "align_self": null,
            "height": null,
            "min_height": null,
            "padding": null,
            "grid_auto_rows": null,
            "grid_gap": null,
            "max_width": null,
            "order": null,
            "_view_module_version": "1.2.0",
            "grid_template_areas": null,
            "object_position": null,
            "object_fit": null,
            "grid_auto_columns": null,
            "margin": null,
            "display": null,
            "left": null
          }
        },
        "6cf0c277330d4c6687ed18310eb73112": {
          "model_module": "@jupyter-widgets/controls",
          "model_name": "DescriptionStyleModel",
          "state": {
            "_view_name": "StyleView",
            "_model_name": "DescriptionStyleModel",
            "description_width": "",
            "_view_module": "@jupyter-widgets/base",
            "_model_module_version": "1.5.0",
            "_view_count": null,
            "_view_module_version": "1.2.0",
            "_model_module": "@jupyter-widgets/controls"
          }
        },
        "2b8db2b60ff340ecb8618ceb4f423d93": {
          "model_module": "@jupyter-widgets/base",
          "model_name": "LayoutModel",
          "state": {
            "_view_name": "LayoutView",
            "grid_template_rows": null,
            "right": null,
            "justify_content": null,
            "_view_module": "@jupyter-widgets/base",
            "overflow": null,
            "_model_module_version": "1.2.0",
            "_view_count": null,
            "flex_flow": null,
            "width": null,
            "min_width": null,
            "border": null,
            "align_items": null,
            "bottom": null,
            "_model_module": "@jupyter-widgets/base",
            "top": null,
            "grid_column": null,
            "overflow_y": null,
            "overflow_x": null,
            "grid_auto_flow": null,
            "grid_area": null,
            "grid_template_columns": null,
            "flex": null,
            "_model_name": "LayoutModel",
            "justify_items": null,
            "grid_row": null,
            "max_height": null,
            "align_content": null,
            "visibility": null,
            "align_self": null,
            "height": null,
            "min_height": null,
            "padding": null,
            "grid_auto_rows": null,
            "grid_gap": null,
            "max_width": null,
            "order": null,
            "_view_module_version": "1.2.0",
            "grid_template_areas": null,
            "object_position": null,
            "object_fit": null,
            "grid_auto_columns": null,
            "margin": null,
            "display": null,
            "left": null
          }
        },
        "4dcf94eb3ea3492b9f75a1ec082d9d71": {
          "model_module": "@jupyter-widgets/controls",
          "model_name": "HBoxModel",
          "state": {
            "_view_name": "HBoxView",
            "_dom_classes": [],
            "_model_name": "HBoxModel",
            "_view_module": "@jupyter-widgets/controls",
            "_model_module_version": "1.5.0",
            "_view_count": null,
            "_view_module_version": "1.5.0",
            "box_style": "",
            "layout": "IPY_MODEL_d2df200f93e74cd8962d8e1ef16a7ceb",
            "_model_module": "@jupyter-widgets/controls",
            "children": [
              "IPY_MODEL_c7b2877c44f441cc89dae098213e226d",
              "IPY_MODEL_35f36b1b097f44e1a20e875f8073d74e"
            ]
          }
        },
        "d2df200f93e74cd8962d8e1ef16a7ceb": {
          "model_module": "@jupyter-widgets/base",
          "model_name": "LayoutModel",
          "state": {
            "_view_name": "LayoutView",
            "grid_template_rows": null,
            "right": null,
            "justify_content": null,
            "_view_module": "@jupyter-widgets/base",
            "overflow": null,
            "_model_module_version": "1.2.0",
            "_view_count": null,
            "flex_flow": null,
            "width": null,
            "min_width": null,
            "border": null,
            "align_items": null,
            "bottom": null,
            "_model_module": "@jupyter-widgets/base",
            "top": null,
            "grid_column": null,
            "overflow_y": null,
            "overflow_x": null,
            "grid_auto_flow": null,
            "grid_area": null,
            "grid_template_columns": null,
            "flex": null,
            "_model_name": "LayoutModel",
            "justify_items": null,
            "grid_row": null,
            "max_height": null,
            "align_content": null,
            "visibility": null,
            "align_self": null,
            "height": null,
            "min_height": null,
            "padding": null,
            "grid_auto_rows": null,
            "grid_gap": null,
            "max_width": null,
            "order": null,
            "_view_module_version": "1.2.0",
            "grid_template_areas": null,
            "object_position": null,
            "object_fit": null,
            "grid_auto_columns": null,
            "margin": null,
            "display": null,
            "left": null
          }
        },
        "c7b2877c44f441cc89dae098213e226d": {
          "model_module": "@jupyter-widgets/controls",
          "model_name": "FloatProgressModel",
          "state": {
            "_view_name": "ProgressView",
            "style": "IPY_MODEL_b1d21be5bcbc4dfd90c4d660e7bc8fe9",
            "_dom_classes": [],
            "description": "Downloading: 100%",
            "_model_name": "FloatProgressModel",
            "bar_style": "success",
            "max": 1355256,
            "_view_module": "@jupyter-widgets/controls",
            "_model_module_version": "1.5.0",
            "value": 1355256,
            "_view_count": null,
            "_view_module_version": "1.5.0",
            "orientation": "horizontal",
            "min": 0,
            "description_tooltip": null,
            "_model_module": "@jupyter-widgets/controls",
            "layout": "IPY_MODEL_8ae66e055f6a4f5f82933b3413154e83"
          }
        },
        "35f36b1b097f44e1a20e875f8073d74e": {
          "model_module": "@jupyter-widgets/controls",
          "model_name": "HTMLModel",
          "state": {
            "_view_name": "HTMLView",
            "style": "IPY_MODEL_e76c6a89d3ca43c9881aefde9d549133",
            "_dom_classes": [],
            "description": "",
            "_model_name": "HTMLModel",
            "placeholder": "​",
            "_view_module": "@jupyter-widgets/controls",
            "_model_module_version": "1.5.0",
            "value": " 1.36M/1.36M [00:01&lt;00:00, 941kB/s]",
            "_view_count": null,
            "_view_module_version": "1.5.0",
            "description_tooltip": null,
            "_model_module": "@jupyter-widgets/controls",
            "layout": "IPY_MODEL_b115f366a9124ab4b2947e7217852e38"
          }
        },
        "b1d21be5bcbc4dfd90c4d660e7bc8fe9": {
          "model_module": "@jupyter-widgets/controls",
          "model_name": "ProgressStyleModel",
          "state": {
            "_view_name": "StyleView",
            "_model_name": "ProgressStyleModel",
            "description_width": "initial",
            "_view_module": "@jupyter-widgets/base",
            "_model_module_version": "1.5.0",
            "_view_count": null,
            "_view_module_version": "1.2.0",
            "bar_color": null,
            "_model_module": "@jupyter-widgets/controls"
          }
        },
        "8ae66e055f6a4f5f82933b3413154e83": {
          "model_module": "@jupyter-widgets/base",
          "model_name": "LayoutModel",
          "state": {
            "_view_name": "LayoutView",
            "grid_template_rows": null,
            "right": null,
            "justify_content": null,
            "_view_module": "@jupyter-widgets/base",
            "overflow": null,
            "_model_module_version": "1.2.0",
            "_view_count": null,
            "flex_flow": null,
            "width": null,
            "min_width": null,
            "border": null,
            "align_items": null,
            "bottom": null,
            "_model_module": "@jupyter-widgets/base",
            "top": null,
            "grid_column": null,
            "overflow_y": null,
            "overflow_x": null,
            "grid_auto_flow": null,
            "grid_area": null,
            "grid_template_columns": null,
            "flex": null,
            "_model_name": "LayoutModel",
            "justify_items": null,
            "grid_row": null,
            "max_height": null,
            "align_content": null,
            "visibility": null,
            "align_self": null,
            "height": null,
            "min_height": null,
            "padding": null,
            "grid_auto_rows": null,
            "grid_gap": null,
            "max_width": null,
            "order": null,
            "_view_module_version": "1.2.0",
            "grid_template_areas": null,
            "object_position": null,
            "object_fit": null,
            "grid_auto_columns": null,
            "margin": null,
            "display": null,
            "left": null
          }
        },
        "e76c6a89d3ca43c9881aefde9d549133": {
          "model_module": "@jupyter-widgets/controls",
          "model_name": "DescriptionStyleModel",
          "state": {
            "_view_name": "StyleView",
            "_model_name": "DescriptionStyleModel",
            "description_width": "",
            "_view_module": "@jupyter-widgets/base",
            "_model_module_version": "1.5.0",
            "_view_count": null,
            "_view_module_version": "1.2.0",
            "_model_module": "@jupyter-widgets/controls"
          }
        },
        "b115f366a9124ab4b2947e7217852e38": {
          "model_module": "@jupyter-widgets/base",
          "model_name": "LayoutModel",
          "state": {
            "_view_name": "LayoutView",
            "grid_template_rows": null,
            "right": null,
            "justify_content": null,
            "_view_module": "@jupyter-widgets/base",
            "overflow": null,
            "_model_module_version": "1.2.0",
            "_view_count": null,
            "flex_flow": null,
            "width": null,
            "min_width": null,
            "border": null,
            "align_items": null,
            "bottom": null,
            "_model_module": "@jupyter-widgets/base",
            "top": null,
            "grid_column": null,
            "overflow_y": null,
            "overflow_x": null,
            "grid_auto_flow": null,
            "grid_area": null,
            "grid_template_columns": null,
            "flex": null,
            "_model_name": "LayoutModel",
            "justify_items": null,
            "grid_row": null,
            "max_height": null,
            "align_content": null,
            "visibility": null,
            "align_self": null,
            "height": null,
            "min_height": null,
            "padding": null,
            "grid_auto_rows": null,
            "grid_gap": null,
            "max_width": null,
            "order": null,
            "_view_module_version": "1.2.0",
            "grid_template_areas": null,
            "object_position": null,
            "object_fit": null,
            "grid_auto_columns": null,
            "margin": null,
            "display": null,
            "left": null
          }
        },
        "10339f6c88d145a79d12ca95e4770e33": {
          "model_module": "@jupyter-widgets/controls",
          "model_name": "HBoxModel",
          "state": {
            "_view_name": "HBoxView",
            "_dom_classes": [],
            "_model_name": "HBoxModel",
            "_view_module": "@jupyter-widgets/controls",
            "_model_module_version": "1.5.0",
            "_view_count": null,
            "_view_module_version": "1.5.0",
            "box_style": "",
            "layout": "IPY_MODEL_e1eb9da1ae534efbb318d1508abe9f6a",
            "_model_module": "@jupyter-widgets/controls",
            "children": [
              "IPY_MODEL_4190e5f7ddf741e38dd7d1a618641454",
              "IPY_MODEL_a3ab868b89f6448c9bb23cca72874ce2"
            ]
          }
        },
        "e1eb9da1ae534efbb318d1508abe9f6a": {
          "model_module": "@jupyter-widgets/base",
          "model_name": "LayoutModel",
          "state": {
            "_view_name": "LayoutView",
            "grid_template_rows": null,
            "right": null,
            "justify_content": null,
            "_view_module": "@jupyter-widgets/base",
            "overflow": null,
            "_model_module_version": "1.2.0",
            "_view_count": null,
            "flex_flow": null,
            "width": null,
            "min_width": null,
            "border": null,
            "align_items": null,
            "bottom": null,
            "_model_module": "@jupyter-widgets/base",
            "top": null,
            "grid_column": null,
            "overflow_y": null,
            "overflow_x": null,
            "grid_auto_flow": null,
            "grid_area": null,
            "grid_template_columns": null,
            "flex": null,
            "_model_name": "LayoutModel",
            "justify_items": null,
            "grid_row": null,
            "max_height": null,
            "align_content": null,
            "visibility": null,
            "align_self": null,
            "height": null,
            "min_height": null,
            "padding": null,
            "grid_auto_rows": null,
            "grid_gap": null,
            "max_width": null,
            "order": null,
            "_view_module_version": "1.2.0",
            "grid_template_areas": null,
            "object_position": null,
            "object_fit": null,
            "grid_auto_columns": null,
            "margin": null,
            "display": null,
            "left": null
          }
        },
        "4190e5f7ddf741e38dd7d1a618641454": {
          "model_module": "@jupyter-widgets/controls",
          "model_name": "FloatProgressModel",
          "state": {
            "_view_name": "ProgressView",
            "style": "IPY_MODEL_e536839abf08423890714cd78f20883c",
            "_dom_classes": [],
            "description": "Downloading: 100%",
            "_model_name": "FloatProgressModel",
            "bar_style": "success",
            "max": 548118077,
            "_view_module": "@jupyter-widgets/controls",
            "_model_module_version": "1.5.0",
            "value": 548118077,
            "_view_count": null,
            "_view_module_version": "1.5.0",
            "orientation": "horizontal",
            "min": 0,
            "description_tooltip": null,
            "_model_module": "@jupyter-widgets/controls",
            "layout": "IPY_MODEL_0336cc1c052343ff8756b4931e4325cc"
          }
        },
        "a3ab868b89f6448c9bb23cca72874ce2": {
          "model_module": "@jupyter-widgets/controls",
          "model_name": "HTMLModel",
          "state": {
            "_view_name": "HTMLView",
            "style": "IPY_MODEL_c06b218b34374903bb8d32fe83805ebf",
            "_dom_classes": [],
            "description": "",
            "_model_name": "HTMLModel",
            "placeholder": "​",
            "_view_module": "@jupyter-widgets/controls",
            "_model_module_version": "1.5.0",
            "value": " 548M/548M [00:12&lt;00:00, 44.6MB/s]",
            "_view_count": null,
            "_view_module_version": "1.5.0",
            "description_tooltip": null,
            "_model_module": "@jupyter-widgets/controls",
            "layout": "IPY_MODEL_5c3c1771a5e6461cbda06276e8454985"
          }
        },
        "e536839abf08423890714cd78f20883c": {
          "model_module": "@jupyter-widgets/controls",
          "model_name": "ProgressStyleModel",
          "state": {
            "_view_name": "StyleView",
            "_model_name": "ProgressStyleModel",
            "description_width": "initial",
            "_view_module": "@jupyter-widgets/base",
            "_model_module_version": "1.5.0",
            "_view_count": null,
            "_view_module_version": "1.2.0",
            "bar_color": null,
            "_model_module": "@jupyter-widgets/controls"
          }
        },
        "0336cc1c052343ff8756b4931e4325cc": {
          "model_module": "@jupyter-widgets/base",
          "model_name": "LayoutModel",
          "state": {
            "_view_name": "LayoutView",
            "grid_template_rows": null,
            "right": null,
            "justify_content": null,
            "_view_module": "@jupyter-widgets/base",
            "overflow": null,
            "_model_module_version": "1.2.0",
            "_view_count": null,
            "flex_flow": null,
            "width": null,
            "min_width": null,
            "border": null,
            "align_items": null,
            "bottom": null,
            "_model_module": "@jupyter-widgets/base",
            "top": null,
            "grid_column": null,
            "overflow_y": null,
            "overflow_x": null,
            "grid_auto_flow": null,
            "grid_area": null,
            "grid_template_columns": null,
            "flex": null,
            "_model_name": "LayoutModel",
            "justify_items": null,
            "grid_row": null,
            "max_height": null,
            "align_content": null,
            "visibility": null,
            "align_self": null,
            "height": null,
            "min_height": null,
            "padding": null,
            "grid_auto_rows": null,
            "grid_gap": null,
            "max_width": null,
            "order": null,
            "_view_module_version": "1.2.0",
            "grid_template_areas": null,
            "object_position": null,
            "object_fit": null,
            "grid_auto_columns": null,
            "margin": null,
            "display": null,
            "left": null
          }
        },
        "c06b218b34374903bb8d32fe83805ebf": {
          "model_module": "@jupyter-widgets/controls",
          "model_name": "DescriptionStyleModel",
          "state": {
            "_view_name": "StyleView",
            "_model_name": "DescriptionStyleModel",
            "description_width": "",
            "_view_module": "@jupyter-widgets/base",
            "_model_module_version": "1.5.0",
            "_view_count": null,
            "_view_module_version": "1.2.0",
            "_model_module": "@jupyter-widgets/controls"
          }
        },
        "5c3c1771a5e6461cbda06276e8454985": {
          "model_module": "@jupyter-widgets/base",
          "model_name": "LayoutModel",
          "state": {
            "_view_name": "LayoutView",
            "grid_template_rows": null,
            "right": null,
            "justify_content": null,
            "_view_module": "@jupyter-widgets/base",
            "overflow": null,
            "_model_module_version": "1.2.0",
            "_view_count": null,
            "flex_flow": null,
            "width": null,
            "min_width": null,
            "border": null,
            "align_items": null,
            "bottom": null,
            "_model_module": "@jupyter-widgets/base",
            "top": null,
            "grid_column": null,
            "overflow_y": null,
            "overflow_x": null,
            "grid_auto_flow": null,
            "grid_area": null,
            "grid_template_columns": null,
            "flex": null,
            "_model_name": "LayoutModel",
            "justify_items": null,
            "grid_row": null,
            "max_height": null,
            "align_content": null,
            "visibility": null,
            "align_self": null,
            "height": null,
            "min_height": null,
            "padding": null,
            "grid_auto_rows": null,
            "grid_gap": null,
            "max_width": null,
            "order": null,
            "_view_module_version": "1.2.0",
            "grid_template_areas": null,
            "object_position": null,
            "object_fit": null,
            "grid_auto_columns": null,
            "margin": null,
            "display": null,
            "left": null
          }
        }
      }
    }
  },
  "cells": [
    {
      "cell_type": "markdown",
      "metadata": {
        "id": "mmwVdJg1LJnn"
      },
      "source": [
        ""
      ]
    },
    {
      "cell_type": "markdown",
      "metadata": {
        "id": "SWFXbhAkLMh6"
      },
      "source": [
        "# Model for correcting misspellea words"
      ]
    },
    {
      "cell_type": "markdown",
      "metadata": {
        "id": "uR5cDVb-L5u1"
      },
      "source": [
        "This part of the notebook was taken from https://github.com/deepmipt/raai_summer_school_nlp_2021. In this part, you can find the demonstration of how to work with transformers"
      ]
    },
    {
      "cell_type": "code",
      "metadata": {
        "id": "l1YeHbFB4oZS",
        "colab": {
          "base_uri": "https://localhost:8080/"
        },
        "outputId": "30b6b734-50b5-490f-f57e-3c2f75590083"
      },
      "source": [
        "!pip install transformers"
      ],
      "execution_count": 1,
      "outputs": [
        {
          "output_type": "stream",
          "text": [
            "Collecting transformers\n",
            "\u001b[?25l  Downloading https://files.pythonhosted.org/packages/fd/1a/41c644c963249fd7f3836d926afa1e3f1cc234a1c40d80c5f03ad8f6f1b2/transformers-4.8.2-py3-none-any.whl (2.5MB)\n",
            "\u001b[K     |████████████████████████████████| 2.5MB 6.7MB/s \n",
            "\u001b[?25hRequirement already satisfied: numpy>=1.17 in /usr/local/lib/python3.7/dist-packages (from transformers) (1.19.5)\n",
            "Requirement already satisfied: tqdm>=4.27 in /usr/local/lib/python3.7/dist-packages (from transformers) (4.41.1)\n",
            "Requirement already satisfied: pyyaml in /usr/local/lib/python3.7/dist-packages (from transformers) (3.13)\n",
            "Collecting huggingface-hub==0.0.12\n",
            "  Downloading https://files.pythonhosted.org/packages/2f/ee/97e253668fda9b17e968b3f97b2f8e53aa0127e8807d24a547687423fe0b/huggingface_hub-0.0.12-py3-none-any.whl\n",
            "Collecting sacremoses\n",
            "\u001b[?25l  Downloading https://files.pythonhosted.org/packages/75/ee/67241dc87f266093c533a2d4d3d69438e57d7a90abb216fa076e7d475d4a/sacremoses-0.0.45-py3-none-any.whl (895kB)\n",
            "\u001b[K     |████████████████████████████████| 901kB 52.3MB/s \n",
            "\u001b[?25hCollecting tokenizers<0.11,>=0.10.1\n",
            "\u001b[?25l  Downloading https://files.pythonhosted.org/packages/d4/e2/df3543e8ffdab68f5acc73f613de9c2b155ac47f162e725dcac87c521c11/tokenizers-0.10.3-cp37-cp37m-manylinux_2_5_x86_64.manylinux1_x86_64.manylinux_2_12_x86_64.manylinux2010_x86_64.whl (3.3MB)\n",
            "\u001b[K     |████████████████████████████████| 3.3MB 49.6MB/s \n",
            "\u001b[?25hRequirement already satisfied: importlib-metadata; python_version < \"3.8\" in /usr/local/lib/python3.7/dist-packages (from transformers) (4.6.1)\n",
            "Requirement already satisfied: filelock in /usr/local/lib/python3.7/dist-packages (from transformers) (3.0.12)\n",
            "Requirement already satisfied: regex!=2019.12.17 in /usr/local/lib/python3.7/dist-packages (from transformers) (2019.12.20)\n",
            "Requirement already satisfied: requests in /usr/local/lib/python3.7/dist-packages (from transformers) (2.23.0)\n",
            "Requirement already satisfied: packaging in /usr/local/lib/python3.7/dist-packages (from transformers) (21.0)\n",
            "Requirement already satisfied: typing-extensions in /usr/local/lib/python3.7/dist-packages (from huggingface-hub==0.0.12->transformers) (3.7.4.3)\n",
            "Requirement already satisfied: click in /usr/local/lib/python3.7/dist-packages (from sacremoses->transformers) (7.1.2)\n",
            "Requirement already satisfied: joblib in /usr/local/lib/python3.7/dist-packages (from sacremoses->transformers) (1.0.1)\n",
            "Requirement already satisfied: six in /usr/local/lib/python3.7/dist-packages (from sacremoses->transformers) (1.15.0)\n",
            "Requirement already satisfied: zipp>=0.5 in /usr/local/lib/python3.7/dist-packages (from importlib-metadata; python_version < \"3.8\"->transformers) (3.5.0)\n",
            "Requirement already satisfied: idna<3,>=2.5 in /usr/local/lib/python3.7/dist-packages (from requests->transformers) (2.10)\n",
            "Requirement already satisfied: chardet<4,>=3.0.2 in /usr/local/lib/python3.7/dist-packages (from requests->transformers) (3.0.4)\n",
            "Requirement already satisfied: certifi>=2017.4.17 in /usr/local/lib/python3.7/dist-packages (from requests->transformers) (2021.5.30)\n",
            "Requirement already satisfied: urllib3!=1.25.0,!=1.25.1,<1.26,>=1.21.1 in /usr/local/lib/python3.7/dist-packages (from requests->transformers) (1.24.3)\n",
            "Requirement already satisfied: pyparsing>=2.0.2 in /usr/local/lib/python3.7/dist-packages (from packaging->transformers) (2.4.7)\n",
            "Installing collected packages: huggingface-hub, sacremoses, tokenizers, transformers\n",
            "Successfully installed huggingface-hub-0.0.12 sacremoses-0.0.45 tokenizers-0.10.3 transformers-4.8.2\n"
          ],
          "name": "stdout"
        }
      ]
    },
    {
      "cell_type": "markdown",
      "metadata": {
        "id": "kcUk4jtJ5Z2f"
      },
      "source": [
        "В современной компьютерной лингвистике вычисление вероятности текста производится в основном за счёт нейронных, а не энграммных моделей. Существует много разновидностей архитектур, мы рассмотрим 2: левостороннюю модель  `gpt2` (её облегчённую версию `distilgpt2`) и языковую модель с пропусками `BERT`."
      ]
    },
    {
      "cell_type": "markdown",
      "metadata": {
        "id": "EnUvo3gX6G6t"
      },
      "source": [
        "## Односторонние языковые модели\n",
        "\n",
        "Вначале создадим токенизатор и применим его к данным"
      ]
    },
    {
      "cell_type": "code",
      "metadata": {
        "id": "bPIF2FkQ5ZZJ",
        "colab": {
          "base_uri": "https://localhost:8080/",
          "height": 213,
          "referenced_widgets": [
            "b933707dc0484befb5cd69ecb65ca419",
            "c225df3b30c54131b6375c3283bebd09",
            "a4e79acc4f08413bb0f4a55d27ecd906",
            "dcecc89dc10d4c309e41485d70939e69",
            "8580dce14bc64147ac877faa8ebfb183",
            "9b6eabe93644427d9fa4fe872bed6d39",
            "70ee3a67908e4b93b7717e9e349036e4",
            "ca0da9465986434390f0276bcef4e083",
            "9317c8e97146428c8c5de788466e93ea",
            "2443737d23e4474cadb092446a73fde3",
            "3abdb523c64c4dbcb36a6261a439337d",
            "540c808de6ad460494865da837d895ec",
            "82c1b43f9bf4464c9cfeae66187bfc06",
            "49e3b5792b9a479d902dc34ca066412e",
            "d798bcabd51d4f5c8d3c2dabaa71ecb2",
            "6c6aa1be37ea402eb4f74e36e259a64c",
            "e5e1ea2f7d764bdcab1b13b94c8f8b4b",
            "a7046e44cf104920a468f82974d96e4f",
            "17b3f65a489646fd9a54f3507346774f",
            "0e4c9221efb348c8b85420142f0150b8",
            "023d174a6adc4c689c5ac50dc8c79c4a",
            "a43805a037a746c982f68c641a221c9f",
            "6cf0c277330d4c6687ed18310eb73112",
            "2b8db2b60ff340ecb8618ceb4f423d93",
            "4dcf94eb3ea3492b9f75a1ec082d9d71",
            "d2df200f93e74cd8962d8e1ef16a7ceb",
            "c7b2877c44f441cc89dae098213e226d",
            "35f36b1b097f44e1a20e875f8073d74e",
            "b1d21be5bcbc4dfd90c4d660e7bc8fe9",
            "8ae66e055f6a4f5f82933b3413154e83",
            "e76c6a89d3ca43c9881aefde9d549133",
            "b115f366a9124ab4b2947e7217852e38"
          ]
        },
        "outputId": "f1e8baf2-b396-4851-b6a0-b152424aa6c8"
      },
      "source": [
        "from transformers import AutoTokenizer\n",
        "\n",
        "tokenizer = AutoTokenizer.from_pretrained(\"gpt2\")"
      ],
      "execution_count": 2,
      "outputs": [
        {
          "output_type": "display_data",
          "data": {
            "application/vnd.jupyter.widget-view+json": {
              "model_id": "b933707dc0484befb5cd69ecb65ca419",
              "version_minor": 0,
              "version_major": 2
            },
            "text/plain": [
              "HBox(children=(FloatProgress(value=0.0, description='Downloading', max=665.0, style=ProgressStyle(description_…"
            ]
          },
          "metadata": {
            "tags": []
          }
        },
        {
          "output_type": "stream",
          "text": [
            "\n"
          ],
          "name": "stdout"
        },
        {
          "output_type": "display_data",
          "data": {
            "application/vnd.jupyter.widget-view+json": {
              "model_id": "9317c8e97146428c8c5de788466e93ea",
              "version_minor": 0,
              "version_major": 2
            },
            "text/plain": [
              "HBox(children=(FloatProgress(value=0.0, description='Downloading', max=1042301.0, style=ProgressStyle(descript…"
            ]
          },
          "metadata": {
            "tags": []
          }
        },
        {
          "output_type": "stream",
          "text": [
            "\n"
          ],
          "name": "stdout"
        },
        {
          "output_type": "display_data",
          "data": {
            "application/vnd.jupyter.widget-view+json": {
              "model_id": "e5e1ea2f7d764bdcab1b13b94c8f8b4b",
              "version_minor": 0,
              "version_major": 2
            },
            "text/plain": [
              "HBox(children=(FloatProgress(value=0.0, description='Downloading', max=456318.0, style=ProgressStyle(descripti…"
            ]
          },
          "metadata": {
            "tags": []
          }
        },
        {
          "output_type": "stream",
          "text": [
            "\n"
          ],
          "name": "stdout"
        },
        {
          "output_type": "display_data",
          "data": {
            "application/vnd.jupyter.widget-view+json": {
              "model_id": "4dcf94eb3ea3492b9f75a1ec082d9d71",
              "version_minor": 0,
              "version_major": 2
            },
            "text/plain": [
              "HBox(children=(FloatProgress(value=0.0, description='Downloading', max=1355256.0, style=ProgressStyle(descript…"
            ]
          },
          "metadata": {
            "tags": []
          }
        },
        {
          "output_type": "stream",
          "text": [
            "\n"
          ],
          "name": "stdout"
        }
      ]
    },
    {
      "cell_type": "code",
      "metadata": {
        "colab": {
          "base_uri": "https://localhost:8080/"
        },
        "id": "Za_xJi6M6lur",
        "outputId": "e76d7dd0-4043-4bb5-8965-ee0d3ee79d9b"
      },
      "source": [
        "text = \"The Starship prototype descended under active aerodynamic control, accomplished by four vehicles.\"\n",
        "tokenization = tokenizer(text)\n",
        "print(tokenization)"
      ],
      "execution_count": 3,
      "outputs": [
        {
          "output_type": "stream",
          "text": [
            "{'input_ids': [464, 40172, 14879, 23667, 739, 4075, 9551, 34743, 1630, 11, 13013, 416, 1440, 5672, 13], 'attention_mask': [1, 1, 1, 1, 1, 1, 1, 1, 1, 1, 1, 1, 1, 1, 1]}\n"
          ],
          "name": "stdout"
        }
      ]
    },
    {
      "cell_type": "code",
      "metadata": {
        "colab": {
          "base_uri": "https://localhost:8080/"
        },
        "id": "GW4OZNVq8Dya",
        "outputId": "d57f99b8-31ed-4e44-c02f-ceafef2f40ce"
      },
      "source": [
        "sents = [\n",
        "    \"Yesterday, all my troubles seemed so far away.\",\n",
        "    \"I only want to say, if there is a way, take away this cup of poison, 'cause it burns me.\",\n",
        "    \"We do not need your education, we do not need your thought control.\",\n",
        "    \"When the light begins to change, I sometimes feel a little strange, a little anxious when it's dark.\"         \n",
        "]\n",
        "for elem in tokenizer(sents)[\"input_ids\"]:\n",
        "    print(elem)"
      ],
      "execution_count": 4,
      "outputs": [
        {
          "output_type": "stream",
          "text": [
            "[28065, 11, 477, 616, 14979, 3947, 523, 1290, 1497, 13]\n",
            "[40, 691, 765, 284, 910, 11, 611, 612, 318, 257, 835, 11, 1011, 1497, 428, 6508, 286, 8764, 11, 705, 25587, 340, 20246, 502, 13]\n",
            "[1135, 466, 407, 761, 534, 3707, 11, 356, 466, 407, 761, 534, 1807, 1630, 13]\n",
            "[2215, 262, 1657, 6140, 284, 1487, 11, 314, 3360, 1254, 257, 1310, 6283, 11, 257, 1310, 18116, 618, 340, 338, 3223, 13]\n"
          ],
          "name": "stdout"
        }
      ]
    },
    {
      "cell_type": "code",
      "metadata": {
        "colab": {
          "base_uri": "https://localhost:8080/"
        },
        "id": "-cIRsdbT8WWk",
        "outputId": "1bacbdea-2e5c-40a9-a644-cbff97844b07"
      },
      "source": [
        "tokenizer.pad_token = tokenizer.eos_token\n",
        "for elem in tokenizer(sents, return_tensors=\"pt\", padding=True)[\"input_ids\"]:\n",
        "    print(elem)"
      ],
      "execution_count": 5,
      "outputs": [
        {
          "output_type": "stream",
          "text": [
            "tensor([28065,    11,   477,   616, 14979,  3947,   523,  1290,  1497,    13,\n",
            "        50256, 50256, 50256, 50256, 50256, 50256, 50256, 50256, 50256, 50256,\n",
            "        50256, 50256, 50256, 50256, 50256])\n",
            "tensor([   40,   691,   765,   284,   910,    11,   611,   612,   318,   257,\n",
            "          835,    11,  1011,  1497,   428,  6508,   286,  8764,    11,   705,\n",
            "        25587,   340, 20246,   502,    13])\n",
            "tensor([ 1135,   466,   407,   761,   534,  3707,    11,   356,   466,   407,\n",
            "          761,   534,  1807,  1630,    13, 50256, 50256, 50256, 50256, 50256,\n",
            "        50256, 50256, 50256, 50256, 50256])\n",
            "tensor([ 2215,   262,  1657,  6140,   284,  1487,    11,   314,  3360,  1254,\n",
            "          257,  1310,  6283,    11,   257,  1310, 18116,   618,   340,   338,\n",
            "         3223,    13, 50256, 50256, 50256])\n"
          ],
          "name": "stdout"
        }
      ]
    },
    {
      "cell_type": "markdown",
      "metadata": {
        "id": "Zhl-w1FP-78D"
      },
      "source": [
        " Загрузим модель на видеокарту."
      ]
    },
    {
      "cell_type": "code",
      "metadata": {
        "colab": {
          "base_uri": "https://localhost:8080/",
          "height": 137,
          "referenced_widgets": [
            "10339f6c88d145a79d12ca95e4770e33",
            "e1eb9da1ae534efbb318d1508abe9f6a",
            "4190e5f7ddf741e38dd7d1a618641454",
            "a3ab868b89f6448c9bb23cca72874ce2",
            "e536839abf08423890714cd78f20883c",
            "0336cc1c052343ff8756b4931e4325cc",
            "c06b218b34374903bb8d32fe83805ebf",
            "5c3c1771a5e6461cbda06276e8454985"
          ]
        },
        "id": "PfgzLWbn-_y1",
        "outputId": "7e4a80f7-2960-44ea-c989-a33d51724a45"
      },
      "source": [
        "from transformers import AutoModelWithLMHead, AutoModel\n",
        "\n",
        "model = AutoModelWithLMHead.from_pretrained(\"gpt2\").to(\"cuda\")\n",
        "type(model)"
      ],
      "execution_count": 6,
      "outputs": [
        {
          "output_type": "stream",
          "text": [
            "/usr/local/lib/python3.7/dist-packages/transformers/models/auto/modeling_auto.py:847: FutureWarning: The class `AutoModelWithLMHead` is deprecated and will be removed in a future version. Please use `AutoModelForCausalLM` for causal language models, `AutoModelForMaskedLM` for masked language models and `AutoModelForSeq2SeqLM` for encoder-decoder models.\n",
            "  FutureWarning,\n"
          ],
          "name": "stderr"
        },
        {
          "output_type": "display_data",
          "data": {
            "application/vnd.jupyter.widget-view+json": {
              "model_id": "10339f6c88d145a79d12ca95e4770e33",
              "version_minor": 0,
              "version_major": 2
            },
            "text/plain": [
              "HBox(children=(FloatProgress(value=0.0, description='Downloading', max=548118077.0, style=ProgressStyle(descri…"
            ]
          },
          "metadata": {
            "tags": []
          }
        },
        {
          "output_type": "stream",
          "text": [
            "\n"
          ],
          "name": "stdout"
        },
        {
          "output_type": "execute_result",
          "data": {
            "text/plain": [
              "transformers.models.gpt2.modeling_gpt2.GPT2LMHeadModel"
            ]
          },
          "metadata": {
            "tags": []
          },
          "execution_count": 6
        }
      ]
    },
    {
      "cell_type": "code",
      "metadata": {
        "id": "6MvhUjU1mcOf"
      },
      "source": [
        "import torch\n",
        "from torch import LongTensor"
      ],
      "execution_count": 20,
      "outputs": []
    },
    {
      "cell_type": "markdown",
      "metadata": {
        "id": "mioXEbjKFpce"
      },
      "source": [
        "Теперь посмотрим, насколько модель знает грамматику."
      ]
    },
    {
      "cell_type": "code",
      "metadata": {
        "colab": {
          "base_uri": "https://localhost:8080/"
        },
        "id": "0JSUfaCa9eIW",
        "outputId": "ab4031bb-b746-4283-dc68-96958decea24"
      },
      "source": [
        " texts = [\n",
        "     \"Alexandra is very proud of herself.\", \"Alexandra is very proud of himself.\",\n",
        "     \"Alexander is very proud of herself.\", \"Alexander is very proud of himself.\",\n",
        "     \"Alexandra is very proud of she.\", \"Alexandra is very proud of her.\",\n",
        "     \"Alexandra is very proud of her son.\"\n",
        " ]\n",
        " tokenizer.pad_token = tokenizer.eos_token\n",
        " batch = tokenizer(texts, return_tensors=\"pt\", padding=True).to(\"cuda\")\n",
        " # добавляем индекс начала строки (склейка массивов по первой координате)\n",
        " batch[\"input_ids\"] = torch.cat([\n",
        "    torch.ones_like(batch[\"input_ids\"][:,:1])*tokenizer.bos_token_id, \n",
        "    batch[\"input_ids\"]\n",
        " ], dim=1)\n",
        "#  batch[\"attention_mask\"] = torch.cat([\n",
        "#     torch.ones_like(batch[\"attention_mask\"][:,:1]),\n",
        "#     batch[\"attention_mask\"]\n",
        "#  ], dim=-1)\n",
        " with torch.no_grad():\n",
        "    logits = model(batch[\"input_ids\"])[\"logits\"]\n",
        " probs = torch.softmax(logits, dim=-1).cpu().numpy()\n",
        " print(probs.shape)"
      ],
      "execution_count": 22,
      "outputs": [
        {
          "output_type": "stream",
          "text": [
            "(7, 10, 50257)\n"
          ],
          "name": "stdout"
        }
      ]
    },
    {
      "cell_type": "code",
      "metadata": {
        "colab": {
          "base_uri": "https://localhost:8080/"
        },
        "id": "7MGAeRn-8_XG",
        "outputId": "22393dd7-3899-4dcb-de5e-6b07af4864b4"
      },
      "source": [
        "for i, text in enumerate(texts):\n",
        "    print(text)\n",
        "    text_token_ids = batch[\"input_ids\"][i,1:]\n",
        "    text_tokens = [x.strip(\"ĠĊ\") for x in tokenizer.convert_ids_to_tokens(text_token_ids)]\n",
        "    for j, (index, token) in enumerate(zip(text_token_ids, text_tokens)):\n",
        "        print(f\"{token}:{probs[i,j,index]:.3f}\", end=\" \")\n",
        "    print(\"\")"
      ],
      "execution_count": 23,
      "outputs": [
        {
          "output_type": "stream",
          "text": [
            "Alexandra is very proud of herself.\n",
            "Alex:0.000 andra:0.050 is:0.014 very:0.004 proud:0.028 of:0.579 herself:0.040 .:0.215 <|endoftext|>:0.002 \n",
            "Alexandra is very proud of himself.\n",
            "Alex:0.000 andra:0.050 is:0.014 very:0.004 proud:0.028 of:0.579 himself:0.002 .:0.213 <|endoftext|>:0.002 \n",
            "Alexander is very proud of herself.\n",
            "Alexander:0.000 is:0.011 very:0.004 proud:0.030 of:0.679 herself:0.001 .:0.205 <|endoftext|>:0.002 <|endoftext|>:0.000 \n",
            "Alexander is very proud of himself.\n",
            "Alexander:0.000 is:0.011 very:0.004 proud:0.030 of:0.679 himself:0.020 .:0.199 <|endoftext|>:0.002 <|endoftext|>:0.000 \n",
            "Alexandra is very proud of she.\n",
            "Alex:0.000 andra:0.050 is:0.014 very:0.004 proud:0.028 of:0.579 she:0.001 .:0.002 <|endoftext|>:0.008 \n",
            "Alexandra is very proud of her.\n",
            "Alex:0.000 andra:0.050 is:0.014 very:0.004 proud:0.028 of:0.579 her:0.356 .:0.005 <|endoftext|>:0.003 \n",
            "Alexandra is very proud of her son.\n",
            "Alex:0.000 andra:0.050 is:0.014 very:0.004 proud:0.028 of:0.579 her:0.356 son:0.009 .:0.165 \n"
          ],
          "name": "stdout"
        }
      ]
    },
    {
      "cell_type": "markdown",
      "metadata": {
        "id": "78soi70RMdrM"
      },
      "source": [
        "## Writing model for correcting misspelled words"
      ]
    },
    {
      "cell_type": "markdown",
      "metadata": {
        "id": "sODuUwoMMnNG"
      },
      "source": [
        "Let`s load library with English dictionary\n"
      ]
    },
    {
      "cell_type": "code",
      "metadata": {
        "id": "8aJN6qXObj9d",
        "colab": {
          "base_uri": "https://localhost:8080/"
        },
        "outputId": "9dbf598d-e7cf-401a-e7d1-4f44c493c149"
      },
      "source": [
        "!apt install -qq enchant\n",
        "!pip install pyenchant"
      ],
      "execution_count": 10,
      "outputs": [
        {
          "output_type": "stream",
          "text": [
            "The following additional packages will be installed:\n",
            "  aspell aspell-en dictionaries-common emacsen-common hunspell-en-us\n",
            "  libaspell15 libenchant1c2a libhunspell-1.6-0 libtext-iconv-perl\n",
            "Suggested packages:\n",
            "  aspell-doc spellutils wordlist hunspell openoffice.org-hunspell\n",
            "  | openoffice.org-core libenchant-voikko\n",
            "The following NEW packages will be installed:\n",
            "  aspell aspell-en dictionaries-common emacsen-common enchant hunspell-en-us\n",
            "  libaspell15 libenchant1c2a libhunspell-1.6-0 libtext-iconv-perl\n",
            "0 upgraded, 10 newly installed, 0 to remove and 39 not upgraded.\n",
            "Need to get 1,310 kB of archives.\n",
            "After this operation, 5,353 kB of additional disk space will be used.\n",
            "Preconfiguring packages ...\n",
            "Selecting previously unselected package libtext-iconv-perl.\n",
            "(Reading database ... 160837 files and directories currently installed.)\n",
            "Preparing to unpack .../0-libtext-iconv-perl_1.7-5build6_amd64.deb ...\n",
            "Unpacking libtext-iconv-perl (1.7-5build6) ...\n",
            "Selecting previously unselected package libaspell15:amd64.\n",
            "Preparing to unpack .../1-libaspell15_0.60.7~20110707-4ubuntu0.1_amd64.deb ...\n",
            "Unpacking libaspell15:amd64 (0.60.7~20110707-4ubuntu0.1) ...\n",
            "Selecting previously unselected package emacsen-common.\n",
            "Preparing to unpack .../2-emacsen-common_2.0.8_all.deb ...\n",
            "Unpacking emacsen-common (2.0.8) ...\n",
            "Selecting previously unselected package dictionaries-common.\n",
            "Preparing to unpack .../3-dictionaries-common_1.27.2_all.deb ...\n",
            "Adding 'diversion of /usr/share/dict/words to /usr/share/dict/words.pre-dictionaries-common by dictionaries-common'\n",
            "Unpacking dictionaries-common (1.27.2) ...\n",
            "Selecting previously unselected package aspell.\n",
            "Preparing to unpack .../4-aspell_0.60.7~20110707-4ubuntu0.1_amd64.deb ...\n",
            "Unpacking aspell (0.60.7~20110707-4ubuntu0.1) ...\n",
            "Selecting previously unselected package aspell-en.\n",
            "Preparing to unpack .../5-aspell-en_2017.08.24-0-0.1_all.deb ...\n",
            "Unpacking aspell-en (2017.08.24-0-0.1) ...\n",
            "Selecting previously unselected package hunspell-en-us.\n",
            "Preparing to unpack .../6-hunspell-en-us_1%3a2017.08.24_all.deb ...\n",
            "Unpacking hunspell-en-us (1:2017.08.24) ...\n",
            "Selecting previously unselected package libhunspell-1.6-0:amd64.\n",
            "Preparing to unpack .../7-libhunspell-1.6-0_1.6.2-1_amd64.deb ...\n",
            "Unpacking libhunspell-1.6-0:amd64 (1.6.2-1) ...\n",
            "Selecting previously unselected package libenchant1c2a:amd64.\n",
            "Preparing to unpack .../8-libenchant1c2a_1.6.0-11.1_amd64.deb ...\n",
            "Unpacking libenchant1c2a:amd64 (1.6.0-11.1) ...\n",
            "Selecting previously unselected package enchant.\n",
            "Preparing to unpack .../9-enchant_1.6.0-11.1_amd64.deb ...\n",
            "Unpacking enchant (1.6.0-11.1) ...\n",
            "Setting up libhunspell-1.6-0:amd64 (1.6.2-1) ...\n",
            "Setting up libaspell15:amd64 (0.60.7~20110707-4ubuntu0.1) ...\n",
            "Setting up emacsen-common (2.0.8) ...\n",
            "Setting up libtext-iconv-perl (1.7-5build6) ...\n",
            "Setting up dictionaries-common (1.27.2) ...\n",
            "Setting up aspell (0.60.7~20110707-4ubuntu0.1) ...\n",
            "Setting up hunspell-en-us (1:2017.08.24) ...\n",
            "Setting up libenchant1c2a:amd64 (1.6.0-11.1) ...\n",
            "Setting up aspell-en (2017.08.24-0-0.1) ...\n",
            "Setting up enchant (1.6.0-11.1) ...\n",
            "Processing triggers for libc-bin (2.27-3ubuntu1.2) ...\n",
            "/sbin/ldconfig.real: /usr/local/lib/python3.7/dist-packages/ideep4py/lib/libmkldnn.so.0 is not a symbolic link\n",
            "\n",
            "Processing triggers for man-db (2.8.3-2ubuntu0.1) ...\n",
            "Processing triggers for dictionaries-common (1.27.2) ...\n",
            "aspell-autobuildhash: processing: en [en-common].\n",
            "aspell-autobuildhash: processing: en [en-variant_0].\n",
            "aspell-autobuildhash: processing: en [en-variant_1].\n",
            "aspell-autobuildhash: processing: en [en-variant_2].\n",
            "aspell-autobuildhash: processing: en [en-w_accents-only].\n",
            "aspell-autobuildhash: processing: en [en-wo_accents-only].\n",
            "aspell-autobuildhash: processing: en [en_AU-variant_0].\n",
            "aspell-autobuildhash: processing: en [en_AU-variant_1].\n",
            "aspell-autobuildhash: processing: en [en_AU-w_accents-only].\n",
            "aspell-autobuildhash: processing: en [en_AU-wo_accents-only].\n",
            "aspell-autobuildhash: processing: en [en_CA-variant_0].\n",
            "aspell-autobuildhash: processing: en [en_CA-variant_1].\n",
            "aspell-autobuildhash: processing: en [en_CA-w_accents-only].\n",
            "aspell-autobuildhash: processing: en [en_CA-wo_accents-only].\n",
            "aspell-autobuildhash: processing: en [en_GB-ise-w_accents-only].\n",
            "aspell-autobuildhash: processing: en [en_GB-ise-wo_accents-only].\n",
            "aspell-autobuildhash: processing: en [en_GB-ize-w_accents-only].\n",
            "aspell-autobuildhash: processing: en [en_GB-ize-wo_accents-only].\n",
            "aspell-autobuildhash: processing: en [en_GB-variant_0].\n",
            "aspell-autobuildhash: processing: en [en_GB-variant_1].\n",
            "aspell-autobuildhash: processing: en [en_US-w_accents-only].\n",
            "aspell-autobuildhash: processing: en [en_US-wo_accents-only].\n",
            "Collecting pyenchant\n",
            "\u001b[?25l  Downloading https://files.pythonhosted.org/packages/76/f1/162fc6975068098e3327358216b70bbecba1d8004438c3bc8fe9f9378a89/pyenchant-3.2.1-py3-none-any.whl (55kB)\n",
            "\u001b[K     |████████████████████████████████| 61kB 5.1MB/s \n",
            "\u001b[?25hInstalling collected packages: pyenchant\n",
            "Successfully installed pyenchant-3.2.1\n"
          ],
          "name": "stdout"
        }
      ]
    },
    {
      "cell_type": "markdown",
      "metadata": {
        "id": "zdDCH3QFMrU8"
      },
      "source": [
        "Here we write the function for finding misspelled words. If you want to correct not only misprint but also grammatical errors you should comment string (`if not d.check(word_list[i]):`). Unfortunately if you use the free version of colab commenting on the string lead to 'RUNTIME ERROR'"
      ]
    },
    {
      "cell_type": "code",
      "metadata": {
        "id": "O16wjo8zbU6W"
      },
      "source": [
        "import enchant\n",
        "#function for finding misspeled word in sentence\n",
        "def find_misspeled(sentance):\n",
        "  word_list = sentance.split(' ')\n",
        "  misspelled_words = dict()\n",
        "  #print(len(word_list))\n",
        "  for i in range(len(word_list)):\n",
        "    if not d.check(word_list[i]):\n",
        "      misspelled_words[word_list[i]] = i\n",
        "  return misspelled_words"
      ],
      "execution_count": 11,
      "outputs": []
    },
    {
      "cell_type": "code",
      "metadata": {
        "id": "pl_tF0Xmbnhy",
        "colab": {
          "base_uri": "https://localhost:8080/"
        },
        "outputId": "78e46850-32f7-405e-f957-2538d1d158b0"
      },
      "source": [
        "#check fuction\n",
        "### check the useful function in package enchant\n",
        "#load english dictionary\n",
        "d = enchant.Dict(\"en_US\")\n",
        "#find misspelled word\n",
        "find_misspeled('He is intelligen')"
      ],
      "execution_count": 12,
      "outputs": [
        {
          "output_type": "execute_result",
          "data": {
            "text/plain": [
              "{'intelligen': 2}"
            ]
          },
          "metadata": {
            "tags": []
          },
          "execution_count": 12
        }
      ]
    },
    {
      "cell_type": "code",
      "metadata": {
        "colab": {
          "base_uri": "https://localhost:8080/"
        },
        "id": "k3jU0f3BKDQN",
        "outputId": "0f6da0c7-1ca2-4189-b064-c4f0f91c28fa"
      },
      "source": [
        "#generate possible words\n",
        "d.suggest('intelligen')"
      ],
      "execution_count": 13,
      "outputs": [
        {
          "output_type": "execute_result",
          "data": {
            "text/plain": [
              "['intelligent', 'intelligence', 'intelligible', 'intelligibly', 'belligerent']"
            ]
          },
          "metadata": {
            "tags": []
          },
          "execution_count": 13
        }
      ]
    },
    {
      "cell_type": "markdown",
      "metadata": {
        "id": "LS7cUrilOxpN"
      },
      "source": [
        "Here we write a function for generating sentences with possible correct words"
      ]
    },
    {
      "cell_type": "code",
      "metadata": {
        "id": "D7Omo8C5b67Z"
      },
      "source": [
        "def generate_correction(sentance):\n",
        "  sentance_list = [sentance]\n",
        "  possible_correction_list = []\n",
        "  word_dict = find_misspeled(sentance)\n",
        "  \n",
        "  for word in word_dict.keys():\n",
        "    for sent in sentance_list:\n",
        "      word_list = sent.split(' ')\n",
        "      for correction_word in d.suggest(word):\n",
        "        new_sentance = ' '.join(word_list[:word_dict[word]] + [correction_word] + word_list[word_dict[word]+1:])\n",
        "        possible_correction_list  += [new_sentance]\n",
        "    #print(sentance_list, word)\n",
        "    sentance_list = possible_correction_list\n",
        "    possible_correction_list = []\n",
        "    #print(sentance_list)\n",
        "  return sentance_list"
      ],
      "execution_count": 14,
      "outputs": []
    },
    {
      "cell_type": "code",
      "metadata": {
        "id": "MhBmfpYvPAss"
      },
      "source": [
        ""
      ],
      "execution_count": null,
      "outputs": []
    },
    {
      "cell_type": "markdown",
      "metadata": {
        "id": "NgMSDvSePBOo"
      },
      "source": [
        "Let`s look at the examples"
      ]
    },
    {
      "cell_type": "code",
      "metadata": {
        "id": "Zj1uw68ebjBz",
        "colab": {
          "base_uri": "https://localhost:8080/"
        },
        "outputId": "a60fd070-44a0-438b-c0fb-5c1917b81119"
      },
      "source": [
        " #check function\n",
        " generate_correction('He is intelligen')"
      ],
      "execution_count": 15,
      "outputs": [
        {
          "output_type": "execute_result",
          "data": {
            "text/plain": [
              "['He is intelligent',\n",
              " 'He is intelligence',\n",
              " 'He is intelligible',\n",
              " 'He is intelligibly',\n",
              " 'He is belligerent']"
            ]
          },
          "metadata": {
            "tags": []
          },
          "execution_count": 15
        }
      ]
    },
    {
      "cell_type": "code",
      "metadata": {
        "id": "ZZoNhoj4b-yO",
        "colab": {
          "base_uri": "https://localhost:8080/"
        },
        "outputId": "e6fd2c54-8a1d-4360-bca7-494a3480a10e"
      },
      "source": [
        "#check function\n",
        "generate_correction('He liks intelligen peaple')"
      ],
      "execution_count": 16,
      "outputs": [
        {
          "output_type": "execute_result",
          "data": {
            "text/plain": [
              "['He leeks intelligent people',\n",
              " 'He leeks intelligent Peale',\n",
              " 'He leeks intelligent leaper',\n",
              " 'He leeks intelligent apple',\n",
              " 'He leeks intelligent appeal',\n",
              " 'He leeks intelligence people',\n",
              " 'He leeks intelligence Peale',\n",
              " 'He leeks intelligence leaper',\n",
              " 'He leeks intelligence apple',\n",
              " 'He leeks intelligence appeal',\n",
              " 'He leeks intelligible people',\n",
              " 'He leeks intelligible Peale',\n",
              " 'He leeks intelligible leaper',\n",
              " 'He leeks intelligible apple',\n",
              " 'He leeks intelligible appeal',\n",
              " 'He leeks intelligibly people',\n",
              " 'He leeks intelligibly Peale',\n",
              " 'He leeks intelligibly leaper',\n",
              " 'He leeks intelligibly apple',\n",
              " 'He leeks intelligibly appeal',\n",
              " 'He leeks belligerent people',\n",
              " 'He leeks belligerent Peale',\n",
              " 'He leeks belligerent leaper',\n",
              " 'He leeks belligerent apple',\n",
              " 'He leeks belligerent appeal',\n",
              " 'He ilks intelligent people',\n",
              " 'He ilks intelligent Peale',\n",
              " 'He ilks intelligent leaper',\n",
              " 'He ilks intelligent apple',\n",
              " 'He ilks intelligent appeal',\n",
              " 'He ilks intelligence people',\n",
              " 'He ilks intelligence Peale',\n",
              " 'He ilks intelligence leaper',\n",
              " 'He ilks intelligence apple',\n",
              " 'He ilks intelligence appeal',\n",
              " 'He ilks intelligible people',\n",
              " 'He ilks intelligible Peale',\n",
              " 'He ilks intelligible leaper',\n",
              " 'He ilks intelligible apple',\n",
              " 'He ilks intelligible appeal',\n",
              " 'He ilks intelligibly people',\n",
              " 'He ilks intelligibly Peale',\n",
              " 'He ilks intelligibly leaper',\n",
              " 'He ilks intelligibly apple',\n",
              " 'He ilks intelligibly appeal',\n",
              " 'He ilks belligerent people',\n",
              " 'He ilks belligerent Peale',\n",
              " 'He ilks belligerent leaper',\n",
              " 'He ilks belligerent apple',\n",
              " 'He ilks belligerent appeal',\n",
              " 'He likes intelligent people',\n",
              " 'He likes intelligent Peale',\n",
              " 'He likes intelligent leaper',\n",
              " 'He likes intelligent apple',\n",
              " 'He likes intelligent appeal',\n",
              " 'He likes intelligence people',\n",
              " 'He likes intelligence Peale',\n",
              " 'He likes intelligence leaper',\n",
              " 'He likes intelligence apple',\n",
              " 'He likes intelligence appeal',\n",
              " 'He likes intelligible people',\n",
              " 'He likes intelligible Peale',\n",
              " 'He likes intelligible leaper',\n",
              " 'He likes intelligible apple',\n",
              " 'He likes intelligible appeal',\n",
              " 'He likes intelligibly people',\n",
              " 'He likes intelligibly Peale',\n",
              " 'He likes intelligibly leaper',\n",
              " 'He likes intelligibly apple',\n",
              " 'He likes intelligibly appeal',\n",
              " 'He likes belligerent people',\n",
              " 'He likes belligerent Peale',\n",
              " 'He likes belligerent leaper',\n",
              " 'He likes belligerent apple',\n",
              " 'He likes belligerent appeal',\n",
              " 'He links intelligent people',\n",
              " 'He links intelligent Peale',\n",
              " 'He links intelligent leaper',\n",
              " 'He links intelligent apple',\n",
              " 'He links intelligent appeal',\n",
              " 'He links intelligence people',\n",
              " 'He links intelligence Peale',\n",
              " 'He links intelligence leaper',\n",
              " 'He links intelligence apple',\n",
              " 'He links intelligence appeal',\n",
              " 'He links intelligible people',\n",
              " 'He links intelligible Peale',\n",
              " 'He links intelligible leaper',\n",
              " 'He links intelligible apple',\n",
              " 'He links intelligible appeal',\n",
              " 'He links intelligibly people',\n",
              " 'He links intelligibly Peale',\n",
              " 'He links intelligibly leaper',\n",
              " 'He links intelligibly apple',\n",
              " 'He links intelligibly appeal',\n",
              " 'He links belligerent people',\n",
              " 'He links belligerent Peale',\n",
              " 'He links belligerent leaper',\n",
              " 'He links belligerent apple',\n",
              " 'He links belligerent appeal',\n",
              " 'He licks intelligent people',\n",
              " 'He licks intelligent Peale',\n",
              " 'He licks intelligent leaper',\n",
              " 'He licks intelligent apple',\n",
              " 'He licks intelligent appeal',\n",
              " 'He licks intelligence people',\n",
              " 'He licks intelligence Peale',\n",
              " 'He licks intelligence leaper',\n",
              " 'He licks intelligence apple',\n",
              " 'He licks intelligence appeal',\n",
              " 'He licks intelligible people',\n",
              " 'He licks intelligible Peale',\n",
              " 'He licks intelligible leaper',\n",
              " 'He licks intelligible apple',\n",
              " 'He licks intelligible appeal',\n",
              " 'He licks intelligibly people',\n",
              " 'He licks intelligibly Peale',\n",
              " 'He licks intelligibly leaper',\n",
              " 'He licks intelligibly apple',\n",
              " 'He licks intelligibly appeal',\n",
              " 'He licks belligerent people',\n",
              " 'He licks belligerent Peale',\n",
              " 'He licks belligerent leaper',\n",
              " 'He licks belligerent apple',\n",
              " 'He licks belligerent appeal',\n",
              " 'He like intelligent people',\n",
              " 'He like intelligent Peale',\n",
              " 'He like intelligent leaper',\n",
              " 'He like intelligent apple',\n",
              " 'He like intelligent appeal',\n",
              " 'He like intelligence people',\n",
              " 'He like intelligence Peale',\n",
              " 'He like intelligence leaper',\n",
              " 'He like intelligence apple',\n",
              " 'He like intelligence appeal',\n",
              " 'He like intelligible people',\n",
              " 'He like intelligible Peale',\n",
              " 'He like intelligible leaper',\n",
              " 'He like intelligible apple',\n",
              " 'He like intelligible appeal',\n",
              " 'He like intelligibly people',\n",
              " 'He like intelligibly Peale',\n",
              " 'He like intelligibly leaper',\n",
              " 'He like intelligibly apple',\n",
              " 'He like intelligibly appeal',\n",
              " 'He like belligerent people',\n",
              " 'He like belligerent Peale',\n",
              " 'He like belligerent leaper',\n",
              " 'He like belligerent apple',\n",
              " 'He like belligerent appeal',\n",
              " 'He lies intelligent people',\n",
              " 'He lies intelligent Peale',\n",
              " 'He lies intelligent leaper',\n",
              " 'He lies intelligent apple',\n",
              " 'He lies intelligent appeal',\n",
              " 'He lies intelligence people',\n",
              " 'He lies intelligence Peale',\n",
              " 'He lies intelligence leaper',\n",
              " 'He lies intelligence apple',\n",
              " 'He lies intelligence appeal',\n",
              " 'He lies intelligible people',\n",
              " 'He lies intelligible Peale',\n",
              " 'He lies intelligible leaper',\n",
              " 'He lies intelligible apple',\n",
              " 'He lies intelligible appeal',\n",
              " 'He lies intelligibly people',\n",
              " 'He lies intelligibly Peale',\n",
              " 'He lies intelligibly leaper',\n",
              " 'He lies intelligibly apple',\n",
              " 'He lies intelligibly appeal',\n",
              " 'He lies belligerent people',\n",
              " 'He lies belligerent Peale',\n",
              " 'He lies belligerent leaper',\n",
              " 'He lies belligerent apple',\n",
              " 'He lies belligerent appeal',\n",
              " 'He oiks intelligent people',\n",
              " 'He oiks intelligent Peale',\n",
              " 'He oiks intelligent leaper',\n",
              " 'He oiks intelligent apple',\n",
              " 'He oiks intelligent appeal',\n",
              " 'He oiks intelligence people',\n",
              " 'He oiks intelligence Peale',\n",
              " 'He oiks intelligence leaper',\n",
              " 'He oiks intelligence apple',\n",
              " 'He oiks intelligence appeal',\n",
              " 'He oiks intelligible people',\n",
              " 'He oiks intelligible Peale',\n",
              " 'He oiks intelligible leaper',\n",
              " 'He oiks intelligible apple',\n",
              " 'He oiks intelligible appeal',\n",
              " 'He oiks intelligibly people',\n",
              " 'He oiks intelligibly Peale',\n",
              " 'He oiks intelligibly leaper',\n",
              " 'He oiks intelligibly apple',\n",
              " 'He oiks intelligibly appeal',\n",
              " 'He oiks belligerent people',\n",
              " 'He oiks belligerent Peale',\n",
              " 'He oiks belligerent leaper',\n",
              " 'He oiks belligerent apple',\n",
              " 'He oiks belligerent appeal',\n",
              " 'He lids intelligent people',\n",
              " 'He lids intelligent Peale',\n",
              " 'He lids intelligent leaper',\n",
              " 'He lids intelligent apple',\n",
              " 'He lids intelligent appeal',\n",
              " 'He lids intelligence people',\n",
              " 'He lids intelligence Peale',\n",
              " 'He lids intelligence leaper',\n",
              " 'He lids intelligence apple',\n",
              " 'He lids intelligence appeal',\n",
              " 'He lids intelligible people',\n",
              " 'He lids intelligible Peale',\n",
              " 'He lids intelligible leaper',\n",
              " 'He lids intelligible apple',\n",
              " 'He lids intelligible appeal',\n",
              " 'He lids intelligibly people',\n",
              " 'He lids intelligibly Peale',\n",
              " 'He lids intelligibly leaper',\n",
              " 'He lids intelligibly apple',\n",
              " 'He lids intelligibly appeal',\n",
              " 'He lids belligerent people',\n",
              " 'He lids belligerent Peale',\n",
              " 'He lids belligerent leaper',\n",
              " 'He lids belligerent apple',\n",
              " 'He lids belligerent appeal',\n",
              " 'He lips intelligent people',\n",
              " 'He lips intelligent Peale',\n",
              " 'He lips intelligent leaper',\n",
              " 'He lips intelligent apple',\n",
              " 'He lips intelligent appeal',\n",
              " 'He lips intelligence people',\n",
              " 'He lips intelligence Peale',\n",
              " 'He lips intelligence leaper',\n",
              " 'He lips intelligence apple',\n",
              " 'He lips intelligence appeal',\n",
              " 'He lips intelligible people',\n",
              " 'He lips intelligible Peale',\n",
              " 'He lips intelligible leaper',\n",
              " 'He lips intelligible apple',\n",
              " 'He lips intelligible appeal',\n",
              " 'He lips intelligibly people',\n",
              " 'He lips intelligibly Peale',\n",
              " 'He lips intelligibly leaper',\n",
              " 'He lips intelligibly apple',\n",
              " 'He lips intelligibly appeal',\n",
              " 'He lips belligerent people',\n",
              " 'He lips belligerent Peale',\n",
              " 'He lips belligerent leaper',\n",
              " 'He lips belligerent apple',\n",
              " 'He lips belligerent appeal']"
            ]
          },
          "metadata": {
            "tags": []
          },
          "execution_count": 16
        }
      ]
    },
    {
      "cell_type": "code",
      "metadata": {
        "id": "1lojfRM5cBql",
        "colab": {
          "base_uri": "https://localhost:8080/"
        },
        "outputId": "d70bb5f6-220a-4d75-f99e-34fd865b0038"
      },
      "source": [
        " texts = generate_correction('He liks intelligen peaple')\n",
        " tokenizer.pad_token = tokenizer.eos_token\n",
        " batch = tokenizer(texts, return_tensors=\"pt\", padding=True).to(\"cuda\")\n",
        " # добавляем индекс начала строки (склейка массивов по первой координате)\n",
        " batch[\"input_ids\"] = torch.cat([\n",
        "    torch.ones_like(batch[\"input_ids\"][:,:1])*tokenizer.bos_token_id, \n",
        "    batch[\"input_ids\"]\n",
        " ], dim=1)\n",
        "#  batch[\"attention_mask\"] = torch.cat([\n",
        "#     torch.ones_like(batch[\"attention_mask\"][:,:1]),\n",
        "#     batch[\"attention_mask\"]\n",
        "#  ], dim=-1)\n",
        " with torch.no_grad():\n",
        "    logits = model(batch[\"input_ids\"])[\"logits\"]\n",
        " probs = torch.softmax(logits, dim=-1).cpu().numpy()\n",
        " print(probs.shape)"
      ],
      "execution_count": 24,
      "outputs": [
        {
          "output_type": "stream",
          "text": [
            "(250, 9, 50257)\n"
          ],
          "name": "stdout"
        }
      ]
    },
    {
      "cell_type": "code",
      "metadata": {
        "id": "57M1wAo9nHH8"
      },
      "source": [
        "import math"
      ],
      "execution_count": 27,
      "outputs": []
    },
    {
      "cell_type": "code",
      "metadata": {
        "id": "HMdqiHARiv8h",
        "colab": {
          "base_uri": "https://localhost:8080/"
        },
        "outputId": "5ecfed7a-02ba-4c56-b224-a0fb4d03e22e"
      },
      "source": [
        " texts = generate_correction('He is intelligen')\n",
        " tokenizer.pad_token = tokenizer.eos_token\n",
        " batch = tokenizer(texts, return_tensors=\"pt\", padding=True).to(\"cuda\")\n",
        " # добавляем индекс начала строки (склейка массивов по первой координате)\n",
        " batch[\"input_ids\"] = torch.cat([\n",
        "    torch.ones_like(batch[\"input_ids\"][:,:1])*tokenizer.bos_token_id, \n",
        "    batch[\"input_ids\"]\n",
        " ], dim=1)\n",
        "#  batch[\"attention_mask\"] = torch.cat([\n",
        "#     torch.ones_like(batch[\"attention_mask\"][:,:1]),\n",
        "#     batch[\"attention_mask\"]\n",
        "#  ], dim=-1)\n",
        " with torch.no_grad():\n",
        "    logits = model(batch[\"input_ids\"])[\"logits\"]\n",
        " probs = torch.softmax(logits, dim=-1).cpu().numpy()\n",
        " print(probs.shape)\n",
        " \n",
        " for i, text in enumerate(texts):\n",
        "    print(text)\n",
        "    text_token_ids = batch[\"input_ids\"][i,1:]\n",
        "    text_tokens = [x.strip(\"ĠĊ\") for x in tokenizer.convert_ids_to_tokens(text_token_ids)]\n",
        "    for j, (index, token) in enumerate(zip(text_token_ids, text_tokens)):\n",
        "        if token != '<|endoftext|>':\n",
        "          print(f\"{token}:{math.log10(probs[i,j,index]):.3f}\", end=\" \")\n",
        "    print(\"\")"
      ],
      "execution_count": 28,
      "outputs": [
        {
          "output_type": "stream",
          "text": [
            "(5, 5, 50257)\n",
            "He is intelligent\n",
            "He:-2.584 is:-1.320 intelligent:-4.069 \n",
            "He is intelligence\n",
            "He:-2.584 is:-1.320 intelligence:-5.639 \n",
            "He is intelligible\n",
            "He:-2.584 is:-1.320 intellig:-6.183 ible:-1.429 \n",
            "He is intelligibly\n",
            "He:-2.584 is:-1.320 intellig:-6.183 ibly:-2.365 \n",
            "He is belligerent\n",
            "He:-2.584 is:-1.320 bellig:-5.047 erent:-0.000 \n"
          ],
          "name": "stdout"
        }
      ]
    },
    {
      "cell_type": "markdown",
      "metadata": {
        "id": "cH7NwwgyP4v8"
      },
      "source": [
        "Here we write code that for each subtokens in a sentence shows its logarithm of possibility to appear in the sentence"
      ]
    },
    {
      "cell_type": "code",
      "metadata": {
        "id": "ROOIOmk7dN5d",
        "colab": {
          "base_uri": "https://localhost:8080/"
        },
        "outputId": "68d7cb7c-6fe7-4162-a0e3-6e0192958529"
      },
      "source": [
        "\n",
        "for i, text in enumerate(texts):\n",
        "    print(text)\n",
        "    text_token_ids = batch[\"input_ids\"][i,1:]\n",
        "    text_tokens = [x.strip(\"ĠĊ\") for x in tokenizer.convert_ids_to_tokens(text_token_ids)]\n",
        "    for j, (index, token) in enumerate(zip(text_token_ids, text_tokens)):\n",
        "        if token != '<|endoftext|>':\n",
        "          print(f\"{token}:{math.log10(probs[i,j,index]):.3f}\", end=\" \")\n",
        "    print(\"\")"
      ],
      "execution_count": 29,
      "outputs": [
        {
          "output_type": "stream",
          "text": [
            "He is intelligent\n",
            "He:-2.584 is:-1.320 intelligent:-4.069 \n",
            "He is intelligence\n",
            "He:-2.584 is:-1.320 intelligence:-5.639 \n",
            "He is intelligible\n",
            "He:-2.584 is:-1.320 intellig:-6.183 ible:-1.429 \n",
            "He is intelligibly\n",
            "He:-2.584 is:-1.320 intellig:-6.183 ibly:-2.365 \n",
            "He is belligerent\n",
            "He:-2.584 is:-1.320 bellig:-5.047 erent:-0.000 \n"
          ],
          "name": "stdout"
        }
      ]
    },
    {
      "cell_type": "markdown",
      "metadata": {
        "id": "B_lX6MRNP9bf"
      },
      "source": [
        "So to find our correct sentance we should sum all logarithm of the possibility of each subtokens unless '<|endoftext|>' and find sentences with the max possibility"
      ]
    },
    {
      "cell_type": "code",
      "metadata": {
        "id": "VzP1XRg_h2uY"
      },
      "source": [
        "def generate_possible_sentence(sentance, best_three = False):\n",
        "  texts = generate_correction(sentance)\n",
        "  tokenizer.pad_token = tokenizer.eos_token\n",
        "  batch = tokenizer(texts, return_tensors=\"pt\", padding=True).to(\"cuda\")\n",
        "  # добавляем индекс начала строки (склейка массивов по первой координате)\n",
        "  batch[\"input_ids\"] = torch.cat([\n",
        "      torch.ones_like(batch[\"input_ids\"][:,:1])*tokenizer.bos_token_id, \n",
        "      batch[\"input_ids\"]\n",
        "  ], dim=1)\n",
        "  #  batch[\"attention_mask\"] = torch.cat([\n",
        "  #     torch.ones_like(batch[\"attention_mask\"][:,:1]),\n",
        "  #     batch[\"attention_mask\"]\n",
        "  #  ], dim=-1)\n",
        "  with torch.no_grad():\n",
        "      logits = model(batch[\"input_ids\"])[\"logits\"]\n",
        "  probs = torch.softmax(logits, dim=-1).cpu().numpy()\n",
        "  #print(probs.shape)\n",
        "  sentence_probability = dict()\n",
        "  for i, text in enumerate(texts):\n",
        "      #print(text)\n",
        "      s = 1\n",
        "      \n",
        "      text_token_ids = batch[\"input_ids\"][i,1:]\n",
        "      text_tokens = [x.strip(\"ĠĊ\") for x in tokenizer.convert_ids_to_tokens(text_token_ids)]\n",
        "      for j, (index, token) in enumerate(zip(text_token_ids, text_tokens)):\n",
        "          if token != '<|endoftext|>':\n",
        "            #print(probs[i,j,index], j)\n",
        "            s *= probs[i,j,index]\n",
        "      sentence_probability[text] = s\n",
        "      #print(s)\n",
        "      #print(\"\")\n",
        "  markdict = sentence_probability\n",
        "  marklist = sorted(markdict.items(), key=lambda x:x[1], reverse=True)\n",
        "  sortdict = dict(marklist)\n",
        "  a = list(sortdict.keys())\n",
        "  print(a[0], math.log10(sortdict[a[0]]))\n",
        "  if best_three:\n",
        "    if len(a) > 1:\n",
        "      print(a[1], math.log10(sortdict[a[1]]))\n",
        "    if len(a) > 2:\n",
        "      print(a[2], math.log10(sortdict[a[2]]))"
      ],
      "execution_count": 30,
      "outputs": []
    },
    {
      "cell_type": "markdown",
      "metadata": {
        "id": "FcTiGYwhIZXA"
      },
      "source": [
        "let's look on example"
      ]
    },
    {
      "cell_type": "code",
      "metadata": {
        "id": "NqkMI0TEoNP_",
        "outputId": "a9215549-65b9-4011-a1e2-b6d9e8acbf24",
        "colab": {
          "base_uri": "https://localhost:8080/"
        }
      },
      "source": [
        "generate_possible_sentence('He is intelligen')"
      ],
      "execution_count": 31,
      "outputs": [
        {
          "output_type": "stream",
          "text": [
            "He is intelligent -7.973009680687585\n"
          ],
          "name": "stdout"
        }
      ]
    },
    {
      "cell_type": "code",
      "metadata": {
        "id": "Lo-nilRcm0Nw",
        "colab": {
          "base_uri": "https://localhost:8080/"
        },
        "outputId": "f88bc23c-4c83-4804-a093-0d166560d8d1"
      },
      "source": [
        "generate_possible_sentence('He liks intelligen peapel')"
      ],
      "execution_count": 32,
      "outputs": [
        {
          "output_type": "stream",
          "text": [
            "He likes intelligent appeal -14.8900343748022\n"
          ],
          "name": "stdout"
        }
      ]
    },
    {
      "cell_type": "code",
      "metadata": {
        "id": "dN_IsQ7MVD_B"
      },
      "source": [
        "generate_possible_sentence('He likes intelligent peapel. They are really smart')"
      ],
      "execution_count": null,
      "outputs": []
    },
    {
      "cell_type": "markdown",
      "metadata": {
        "id": "r-bUUIeCVc6-"
      },
      "source": [
        ""
      ]
    },
    {
      "cell_type": "code",
      "metadata": {
        "id": "2RPDKty0VddA"
      },
      "source": [
        "generate_possible_sentence('He was very hard person. H makes people angry')"
      ],
      "execution_count": null,
      "outputs": []
    },
    {
      "cell_type": "code",
      "metadata": {
        "id": "gJAmWf_yVyHK"
      },
      "source": [
        "generate_possible_sentence('He was very hard person. Hi makes people angry')"
      ],
      "execution_count": null,
      "outputs": []
    },
    {
      "cell_type": "markdown",
      "metadata": {
        "id": "pBtMG8buRHDH"
      },
      "source": [
        "the number means the logarithm of the probability of the given right to offer"
      ]
    },
    {
      "cell_type": "markdown",
      "metadata": {
        "id": "U0y6Hfk6RULq"
      },
      "source": [
        "let's look on example of best three sentances"
      ]
    },
    {
      "cell_type": "code",
      "metadata": {
        "colab": {
          "base_uri": "https://localhost:8080/"
        },
        "id": "TU95yFQuIgGN",
        "outputId": "e459c132-a690-475c-aa53-68789871dd5d"
      },
      "source": [
        "generate_possible_sentence('He liks intelligen poeple', best_three = True)"
      ],
      "execution_count": 33,
      "outputs": [
        {
          "output_type": "stream",
          "text": [
            "He likes intelligent people -10.859718182047587\n",
            "He like intelligent people -12.039852992837014\n",
            "He likes intelligence people -12.702763681423061\n"
          ],
          "name": "stdout"
        }
      ]
    },
    {
      "cell_type": "code",
      "metadata": {
        "id": "KO0rPDH0o2bb",
        "colab": {
          "base_uri": "https://localhost:8080/"
        },
        "outputId": "56236cf6-2e1c-4433-8dbb-5f3f50b2b481"
      },
      "source": [
        "generate_possible_sentence('Nice to mete you')"
      ],
      "execution_count": 34,
      "outputs": [
        {
          "output_type": "stream",
          "text": [
            "Nice to mete you -14.887436033400595\n"
          ],
          "name": "stdout"
        }
      ]
    },
    {
      "cell_type": "code",
      "metadata": {
        "id": "tG-hffrcm0Qi",
        "colab": {
          "base_uri": "https://localhost:8080/"
        },
        "outputId": "526bf25a-8f49-44cf-9a45-288a56906e88"
      },
      "source": [
        "generate_possible_sentence('Nice to ment you', best_three = True)"
      ],
      "execution_count": 35,
      "outputs": [
        {
          "output_type": "stream",
          "text": [
            "Nice to meet you -6.23056891547142\n",
            "Nice to met you -9.22511285645124\n",
            "Nice to sent you -11.983995502819349\n"
          ],
          "name": "stdout"
        }
      ]
    },
    {
      "cell_type": "code",
      "metadata": {
        "id": "LO97-Obzop2I",
        "colab": {
          "base_uri": "https://localhost:8080/"
        },
        "outputId": "35c5ba6a-5470-47cd-d333-040dc908c031"
      },
      "source": [
        "generate_possible_sentence('Where are you from')"
      ],
      "execution_count": 36,
      "outputs": [
        {
          "output_type": "stream",
          "text": [
            "Where are you from -5.822051746623529\n"
          ],
          "name": "stdout"
        }
      ]
    },
    {
      "cell_type": "code",
      "metadata": {
        "id": "4TQNPJ1Ho6F3",
        "colab": {
          "base_uri": "https://localhost:8080/"
        },
        "outputId": "e7979432-bbbe-4362-c7a6-5d902d97046e"
      },
      "source": [
        "generate_possible_sentence('Where are you frm', best_three = True)"
      ],
      "execution_count": 37,
      "outputs": [
        {
          "output_type": "stream",
          "text": [
            "Where are you from -5.822049168133126\n",
            "Where are you fro -9.984711659688703\n",
            "Where are you fr -10.156299643015004\n"
          ],
          "name": "stdout"
        }
      ]
    },
    {
      "cell_type": "code",
      "metadata": {
        "id": "EQLkZLGbthen",
        "outputId": "e78dd045-c72b-4bab-a80b-66f2690b662a",
        "colab": {
          "base_uri": "https://localhost:8080/"
        }
      },
      "source": [
        "generate_possible_sentence('Where are youfrom', best_three = True)"
      ],
      "execution_count": 60,
      "outputs": [
        {
          "output_type": "stream",
          "text": [
            "Where are you from -5.822044339177939\n",
            "Where are you-from -11.70946646505008\n",
            "Where are froufrou -13.452859386399195\n"
          ],
          "name": "stdout"
        }
      ]
    },
    {
      "cell_type": "code",
      "metadata": {
        "id": "VooWNZFctyjp",
        "outputId": "824e48da-3693-4e0e-f0fe-8ece5b59c8d0",
        "colab": {
          "base_uri": "https://localhost:8080/"
        }
      },
      "source": [
        "generate_possible_sentence('Excuseme, sir, you dropped your wallet', best_three = True)"
      ],
      "execution_count": 64,
      "outputs": [
        {
          "output_type": "stream",
          "text": [
            "Excused sir you dropped your wallet -20.51674264270373\n",
            "Excused Sir you dropped your wallet -21.25309790472316\n",
            "Excused sirs you dropped your wallet -22.079111641811714\n"
          ],
          "name": "stdout"
        }
      ]
    },
    {
      "cell_type": "code",
      "metadata": {
        "id": "U3RKePIBq0mR",
        "outputId": "d0242c62-6cc6-47df-979a-8623ff7283d3",
        "colab": {
          "base_uri": "https://localhost:8080/"
        }
      },
      "source": [
        "generate_possible_sentence('H likes Mary', best_three = True)"
      ],
      "execution_count": 38,
      "outputs": [
        {
          "output_type": "stream",
          "text": [
            "H likes Mary -12.756452390134115\n"
          ],
          "name": "stdout"
        }
      ]
    },
    {
      "cell_type": "code",
      "metadata": {
        "id": "Ic25E2PAulch",
        "outputId": "f0f1aebc-4a06-4cd7-b189-5cecde8e830f",
        "colab": {
          "base_uri": "https://localhost:8080/"
        }
      },
      "source": [
        "generate_possible_sentence('Helikes Mary', best_three = True)"
      ],
      "execution_count": 63,
      "outputs": [
        {
          "output_type": "stream",
          "text": [
            "Likes Mary -9.066864499924055\n",
            "He likes Mary -9.947937511564978\n",
            "Helices Mary -13.30369145744321\n"
          ],
          "name": "stdout"
        }
      ]
    },
    {
      "cell_type": "code",
      "metadata": {
        "id": "mjqWZ54LuzZK"
      },
      "source": [
        "generate_possible_sentence('Helikes Mary', best_three = True)"
      ],
      "execution_count": null,
      "outputs": []
    },
    {
      "cell_type": "code",
      "metadata": {
        "id": "9OdFh1UapBIu",
        "colab": {
          "base_uri": "https://localhost:8080/"
        },
        "outputId": "ae91b737-a665-4b42-e081-f1552b5d6f75"
      },
      "source": [
        "generate_possible_sentence('Wher are you from')"
      ],
      "execution_count": 57,
      "outputs": [
        {
          "output_type": "stream",
          "text": [
            "Where are you from -5.822059694891647\n"
          ],
          "name": "stdout"
        }
      ]
    },
    {
      "cell_type": "code",
      "metadata": {
        "id": "ie-_L86IpG9B",
        "colab": {
          "base_uri": "https://localhost:8080/"
        },
        "outputId": "49118054-9d06-4b78-a6dd-43a3debf326f"
      },
      "source": [
        "generate_possible_sentence('Where are yu from')"
      ],
      "execution_count": 59,
      "outputs": [
        {
          "output_type": "stream",
          "text": [
            "Where are you from -5.822052646721279\n"
          ],
          "name": "stdout"
        }
      ]
    },
    {
      "cell_type": "code",
      "metadata": {
        "id": "-m5ByahM0TVL",
        "colab": {
          "base_uri": "https://localhost:8080/"
        },
        "outputId": "089f6b71-66a5-4c23-b0ac-f8c3c8af6d51"
      },
      "source": [
        "generate_possible_sentence('Wher is you from')"
      ],
      "execution_count": 58,
      "outputs": [
        {
          "output_type": "stream",
          "text": [
            "Where is you from -8.00890321694338\n"
          ],
          "name": "stdout"
        }
      ]
    },
    {
      "cell_type": "code",
      "metadata": {
        "id": "gsJwgb4Q0oUo",
        "colab": {
          "base_uri": "https://localhost:8080/"
        },
        "outputId": "40f72915-ef03-4940-bb6a-5a3499a77599"
      },
      "source": [
        "generate_possible_sentence('Wher ar you from')"
      ],
      "execution_count": 56,
      "outputs": [
        {
          "output_type": "stream",
          "text": [
            "Where are you from -5.822054530763859\n"
          ],
          "name": "stdout"
        }
      ]
    },
    {
      "cell_type": "code",
      "metadata": {
        "id": "H8uAlTRt0x9z",
        "colab": {
          "base_uri": "https://localhost:8080/"
        },
        "outputId": "5e2ec81f-92c8-44c3-c043-2a18024ccb45"
      },
      "source": [
        "generate_possible_sentence('Excuce me, sar, you dropped your wallet')"
      ],
      "execution_count": 55,
      "outputs": [
        {
          "output_type": "stream",
          "text": [
            "Excuse me Sara you dropped your wallet -22.20794236369435\n"
          ],
          "name": "stdout"
        }
      ]
    },
    {
      "cell_type": "code",
      "metadata": {
        "id": "uFg3CLMS1Qax",
        "colab": {
          "base_uri": "https://localhost:8080/"
        },
        "outputId": "a3fc8f3a-0bae-4e37-867f-9b224507fbb2"
      },
      "source": [
        "generate_possible_sentence('I dod not invit you to the pary.')"
      ],
      "execution_count": 54,
      "outputs": [
        {
          "output_type": "stream",
          "text": [
            "I did not invite you to the party -11.473779448857929\n"
          ],
          "name": "stdout"
        }
      ]
    },
    {
      "cell_type": "code",
      "metadata": {
        "id": "2w1uhWX9u7pw",
        "outputId": "d7890d8d-d351-41ad-cdb8-938f35296743",
        "colab": {
          "base_uri": "https://localhost:8080/"
        }
      },
      "source": [
        "generate_possible_sentence('Idid not invit you to the pary.')"
      ],
      "execution_count": 65,
      "outputs": [
        {
          "output_type": "stream",
          "text": [
            "Did not invite you to the party -13.3637631279328\n"
          ],
          "name": "stdout"
        }
      ]
    },
    {
      "cell_type": "code",
      "metadata": {
        "id": "j7bcWNvAu_So",
        "outputId": "ac011420-8791-47b3-8627-a16f4523a496",
        "colab": {
          "base_uri": "https://localhost:8080/"
        }
      },
      "source": [
        "generate_possible_sentence('I didnot invit you to the pary.')"
      ],
      "execution_count": 66,
      "outputs": [
        {
          "output_type": "stream",
          "text": [
            "I didn't invite you to the party -10.971554858634994\n"
          ],
          "name": "stdout"
        }
      ]
    },
    {
      "cell_type": "code",
      "metadata": {
        "id": "27qMhkwGvCW_",
        "outputId": "a7943c80-2abd-40a8-c0bf-cb683bcdd3bd",
        "colab": {
          "base_uri": "https://localhost:8080/"
        }
      },
      "source": [
        "generate_possible_sentence('I did not inviteyou to the pary.')"
      ],
      "execution_count": 67,
      "outputs": [
        {
          "output_type": "stream",
          "text": [
            "I did not invitee to the party -16.466447650841918\n"
          ],
          "name": "stdout"
        }
      ]
    },
    {
      "cell_type": "code",
      "metadata": {
        "id": "QcV8KNxcvJes",
        "outputId": "9b86c7a0-4b87-4f4a-e3ac-f730a3f5a051",
        "colab": {
          "base_uri": "https://localhost:8080/"
        }
      },
      "source": [
        "generate_possible_sentence('I did not invite you to theparty.')"
      ],
      "execution_count": 68,
      "outputs": [
        {
          "output_type": "stream",
          "text": [
            "I did not invite you to the party -11.47376431090114\n"
          ],
          "name": "stdout"
        }
      ]
    },
    {
      "cell_type": "code",
      "metadata": {
        "id": "R54mw8WxvQ6s",
        "outputId": "f0fee2d6-44ef-4fb7-9478-1d257f7b7ac5",
        "colab": {
          "base_uri": "https://localhost:8080/"
        }
      },
      "source": [
        "generate_possible_sentence('I did not invite you tothe party.')"
      ],
      "execution_count": 69,
      "outputs": [
        {
          "output_type": "stream",
          "text": [
            "I did not invite you to the party. -12.056345813394588\n"
          ],
          "name": "stdout"
        }
      ]
    },
    {
      "cell_type": "code",
      "metadata": {
        "id": "RRB_WQNi1nwM",
        "colab": {
          "base_uri": "https://localhost:8080/"
        },
        "outputId": "491756f4-8924-449e-9ff7-8599bd885175"
      },
      "source": [
        "generate_possible_sentence('I m reallysorry')"
      ],
      "execution_count": 71,
      "outputs": [
        {
          "output_type": "stream",
          "text": [
            "I m really sorry -10.48647205781006\n"
          ],
          "name": "stdout"
        }
      ]
    },
    {
      "cell_type": "code",
      "metadata": {
        "id": "R-9ntdMf1pOZ",
        "colab": {
          "base_uri": "https://localhost:8080/"
        },
        "outputId": "88fdb7e4-b569-4886-ed36-99196a57c530"
      },
      "source": [
        "generate_possible_sentence('Im really sory')"
      ],
      "execution_count": 39,
      "outputs": [
        {
          "output_type": "stream",
          "text": [
            "I'm really sorry -5.891609285081461\n"
          ],
          "name": "stdout"
        }
      ]
    },
    {
      "cell_type": "code",
      "metadata": {
        "id": "zZOtE2qj1xdn",
        "colab": {
          "base_uri": "https://localhost:8080/"
        },
        "outputId": "6ef59e2e-3b0e-4c62-d348-354fdc1bdb97"
      },
      "source": [
        "generate_possible_sentence('Wht do youthink?')"
      ],
      "execution_count": 52,
      "outputs": [
        {
          "output_type": "stream",
          "text": [
            "What do outhitting -13.863678994758327\n"
          ],
          "name": "stdout"
        }
      ]
    },
    {
      "cell_type": "code",
      "metadata": {
        "id": "lM_OAeu1SUKY",
        "colab": {
          "base_uri": "https://localhost:8080/"
        },
        "outputId": "045747c1-5588-4522-8cf7-0f15595d3873"
      },
      "source": [
        "generate_possible_sentence('Oh, never mins')"
      ],
      "execution_count": 50,
      "outputs": [
        {
          "output_type": "stream",
          "text": [
            "Oh never mind -7.874431643460552\n"
          ],
          "name": "stdout"
        }
      ]
    },
    {
      "cell_type": "code",
      "metadata": {
        "id": "cQjH7_BL2QIg",
        "colab": {
          "base_uri": "https://localhost:8080/"
        },
        "outputId": "d7359792-45cb-4d08-a9f7-68fc2cb8c342"
      },
      "source": [
        "generate_possible_sentence('Oh, never mins')"
      ],
      "execution_count": 51,
      "outputs": [
        {
          "output_type": "stream",
          "text": [
            "Oh never mind -7.874431643460552\n"
          ],
          "name": "stdout"
        }
      ]
    },
    {
      "cell_type": "markdown",
      "metadata": {
        "id": "rr2sYjrrT0lW"
      },
      "source": [
        "If you have this error it means that there is no enough  memory on colab and you should restart everything:("
      ]
    },
    {
      "cell_type": "code",
      "metadata": {
        "id": "W8xutWKB25Ve",
        "colab": {
          "base_uri": "https://localhost:8080/"
        },
        "outputId": "f9884da6-3972-4472-a817-437376953a55"
      },
      "source": [
        "generate_possible_sentence('Im Masha')"
      ],
      "execution_count": 49,
      "outputs": [
        {
          "output_type": "stream",
          "text": [
            "In Mash -7.192526356863372\n"
          ],
          "name": "stdout"
        }
      ]
    },
    {
      "cell_type": "code",
      "metadata": {
        "colab": {
          "base_uri": "https://localhost:8080/"
        },
        "id": "XuGMdI8FTcFl",
        "outputId": "afe729cb-1db8-4f61-c7fd-3c7aa60ba7a6"
      },
      "source": [
        "generate_possible_sentence('Im Jack')"
      ],
      "execution_count": 40,
      "outputs": [
        {
          "output_type": "stream",
          "text": [
            "In Jack -6.849314044971794\n"
          ],
          "name": "stdout"
        }
      ]
    },
    {
      "cell_type": "code",
      "metadata": {
        "colab": {
          "base_uri": "https://localhost:8080/"
        },
        "id": "KsB5mMLGSoog",
        "outputId": "4a964039-e103-4540-f7c5-d2109f38185b"
      },
      "source": [
        "generate_possible_sentence('Im Jack. I have a son')"
      ],
      "execution_count": 41,
      "outputs": [
        {
          "output_type": "stream",
          "text": [
            "I'm Jack. I have a son -13.190372789967247\n"
          ],
          "name": "stdout"
        }
      ]
    },
    {
      "cell_type": "code",
      "metadata": {
        "colab": {
          "base_uri": "https://localhost:8080/"
        },
        "id": "oXFZj_uSS7Ug",
        "outputId": "f24391ea-4e29-4cc0-a005-2c6b196f0c2c"
      },
      "source": [
        "generate_possible_sentence('Im Pol. I have a son')"
      ],
      "execution_count": 48,
      "outputs": [
        {
          "output_type": "stream",
          "text": [
            "I'm Pol. I have a son -16.118025857377518\n"
          ],
          "name": "stdout"
        }
      ]
    },
    {
      "cell_type": "code",
      "metadata": {
        "colab": {
          "base_uri": "https://localhost:8080/"
        },
        "id": "duVCfvdqSzCj",
        "outputId": "395ca5bb-470f-430f-f861-8d2d11a89257"
      },
      "source": [
        "generate_possible_sentence('Im seven years old')"
      ],
      "execution_count": 47,
      "outputs": [
        {
          "output_type": "stream",
          "text": [
            "I'm seven years old -7.590789444221681\n"
          ],
          "name": "stdout"
        }
      ]
    },
    {
      "cell_type": "code",
      "metadata": {
        "id": "pNoJoUpdpObw",
        "colab": {
          "base_uri": "https://localhost:8080/"
        },
        "outputId": "4b31218f-c488-4006-be81-d9416ee3b3a9"
      },
      "source": [
        "generate_possible_sentence('Thaks so muc for the birthdays money.')"
      ],
      "execution_count": 46,
      "outputs": [
        {
          "output_type": "stream",
          "text": [
            "Thanks so much for the birthdays money. -17.193170857781922\n"
          ],
          "name": "stdout"
        }
      ]
    },
    {
      "cell_type": "code",
      "metadata": {
        "id": "88Qf1vh-smM7",
        "colab": {
          "base_uri": "https://localhost:8080/"
        },
        "outputId": "30b26b2f-a914-42f6-a31a-e41133145ff0"
      },
      "source": [
        "generate_possible_sentence('I really appreiate yor help.')"
      ],
      "execution_count": 45,
      "outputs": [
        {
          "output_type": "stream",
          "text": [
            "I really appreciate your help. -8.536285601209237\n"
          ],
          "name": "stdout"
        }
      ]
    },
    {
      "cell_type": "markdown",
      "metadata": {
        "id": "X5H0K_nMUXSJ"
      },
      "source": [
        "GPT2 does not know my name"
      ]
    },
    {
      "cell_type": "code",
      "metadata": {
        "id": "OF5cr-Wa0lmp",
        "colab": {
          "base_uri": "https://localhost:8080/"
        },
        "outputId": "a46881bf-7159-46bf-bf94-ec13430758cb"
      },
      "source": [
        "generate_possible_sentence('I am Masha')"
      ],
      "execution_count": 42,
      "outputs": [
        {
          "output_type": "stream",
          "text": [
            "I am Tasha -8.588813247887964\n"
          ],
          "name": "stdout"
        }
      ]
    },
    {
      "cell_type": "code",
      "metadata": {
        "colab": {
          "base_uri": "https://localhost:8080/"
        },
        "id": "WcZbpydrUV6M",
        "outputId": "ae341136-6deb-4c40-95e6-abcdc919fea7"
      },
      "source": [
        "generate_possible_sentence('I am Maria')"
      ],
      "execution_count": 43,
      "outputs": [
        {
          "output_type": "stream",
          "text": [
            "I am Maria -7.988472099562584\n"
          ],
          "name": "stdout"
        }
      ]
    },
    {
      "cell_type": "code",
      "metadata": {
        "colab": {
          "base_uri": "https://localhost:8080/"
        },
        "id": "ZqSQArG-UqTD",
        "outputId": "67b5384c-e838-4271-85c0-de5b19e9d51d"
      },
      "source": [
        "generate_possible_sentence('Input arrays to be multiplid.')\n"
      ],
      "execution_count": 44,
      "outputs": [
        {
          "output_type": "stream",
          "text": [
            "Input arrays to be multiplied -15.16632472214808\n"
          ],
          "name": "stdout"
        }
      ]
    },
    {
      "cell_type": "markdown",
      "metadata": {
        "id": "BmNoRjGsUv9_"
      },
      "source": [
        ""
      ]
    },
    {
      "cell_type": "markdown",
      "metadata": {
        "id": "8fpCTMo4UpWv"
      },
      "source": [
        ""
      ]
    },
    {
      "cell_type": "markdown",
      "metadata": {
        "id": "5Eejs_rmUgix"
      },
      "source": [
        ""
      ]
    }
  ]
}